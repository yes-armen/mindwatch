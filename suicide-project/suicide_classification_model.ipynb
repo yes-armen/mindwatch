{
  "cells": [
    {
      "cell_type": "code",
      "execution_count": null,
      "metadata": {
        "colab": {
          "base_uri": "https://localhost:8080/"
        },
        "id": "BHSjF2fM1WL6",
        "outputId": "19cbca32-7f19-4ba8-d1d7-7309709a5512"
      },
      "outputs": [
        {
          "output_type": "stream",
          "name": "stdout",
          "text": [
            "Mounted at /content/drive\n"
          ]
        }
      ],
      "source": [
        "from google.colab import drive\n",
        "drive.mount('/content/drive')"
      ]
    },
    {
      "cell_type": "code",
      "execution_count": null,
      "metadata": {
        "colab": {
          "base_uri": "https://localhost:8080/",
          "height": 466
        },
        "id": "uuZn0_YfcVAw",
        "outputId": "4434d59b-81ca-46df-9b6a-ec044ddbeee6"
      },
      "outputs": [
        {
          "output_type": "stream",
          "name": "stderr",
          "text": [
            "<ipython-input-2-e2d8adc6f334>:4: DtypeWarning: Columns (1) have mixed types. Specify dtype option on import or set low_memory=False.\n",
            "  df = pd.read_csv(\"/content/drive/MyDrive/Suicide_Detection_clean.csv\", header=None)\n"
          ]
        },
        {
          "output_type": "execute_result",
          "data": {
            "text/plain": [
              "                                                     text  target\n",
              "0                                                    text       0\n",
              "1       ex wife threatening suiciderecently i left my ...       1\n",
              "2       am i weird i dont get affected by compliments ...       0\n",
              "3       finally 2020 is almost over so i can never hea...       0\n",
              "4                  i need helpjust help im crying so hard       1\n",
              "...                                                   ...     ...\n",
              "232070  if you dont like rock then your not going to g...       0\n",
              "232071  you how you can tell i have so many friends an...       0\n",
              "232072  pee probably tastes like salty tea can someone...       0\n",
              "232073  the usual stuff you find hereim not posting th...       1\n",
              "232074  i still havent beaten the first boss in hollow...       0\n",
              "\n",
              "[232075 rows x 2 columns]"
            ],
            "text/html": [
              "\n",
              "  <div id=\"df-c415a605-a660-4b41-ab1a-e349df5a8680\">\n",
              "    <div class=\"colab-df-container\">\n",
              "      <div>\n",
              "<style scoped>\n",
              "    .dataframe tbody tr th:only-of-type {\n",
              "        vertical-align: middle;\n",
              "    }\n",
              "\n",
              "    .dataframe tbody tr th {\n",
              "        vertical-align: top;\n",
              "    }\n",
              "\n",
              "    .dataframe thead th {\n",
              "        text-align: right;\n",
              "    }\n",
              "</style>\n",
              "<table border=\"1\" class=\"dataframe\">\n",
              "  <thead>\n",
              "    <tr style=\"text-align: right;\">\n",
              "      <th></th>\n",
              "      <th>text</th>\n",
              "      <th>target</th>\n",
              "    </tr>\n",
              "  </thead>\n",
              "  <tbody>\n",
              "    <tr>\n",
              "      <th>0</th>\n",
              "      <td>text</td>\n",
              "      <td>0</td>\n",
              "    </tr>\n",
              "    <tr>\n",
              "      <th>1</th>\n",
              "      <td>ex wife threatening suiciderecently i left my ...</td>\n",
              "      <td>1</td>\n",
              "    </tr>\n",
              "    <tr>\n",
              "      <th>2</th>\n",
              "      <td>am i weird i dont get affected by compliments ...</td>\n",
              "      <td>0</td>\n",
              "    </tr>\n",
              "    <tr>\n",
              "      <th>3</th>\n",
              "      <td>finally 2020 is almost over so i can never hea...</td>\n",
              "      <td>0</td>\n",
              "    </tr>\n",
              "    <tr>\n",
              "      <th>4</th>\n",
              "      <td>i need helpjust help im crying so hard</td>\n",
              "      <td>1</td>\n",
              "    </tr>\n",
              "    <tr>\n",
              "      <th>...</th>\n",
              "      <td>...</td>\n",
              "      <td>...</td>\n",
              "    </tr>\n",
              "    <tr>\n",
              "      <th>232070</th>\n",
              "      <td>if you dont like rock then your not going to g...</td>\n",
              "      <td>0</td>\n",
              "    </tr>\n",
              "    <tr>\n",
              "      <th>232071</th>\n",
              "      <td>you how you can tell i have so many friends an...</td>\n",
              "      <td>0</td>\n",
              "    </tr>\n",
              "    <tr>\n",
              "      <th>232072</th>\n",
              "      <td>pee probably tastes like salty tea can someone...</td>\n",
              "      <td>0</td>\n",
              "    </tr>\n",
              "    <tr>\n",
              "      <th>232073</th>\n",
              "      <td>the usual stuff you find hereim not posting th...</td>\n",
              "      <td>1</td>\n",
              "    </tr>\n",
              "    <tr>\n",
              "      <th>232074</th>\n",
              "      <td>i still havent beaten the first boss in hollow...</td>\n",
              "      <td>0</td>\n",
              "    </tr>\n",
              "  </tbody>\n",
              "</table>\n",
              "<p>232075 rows × 2 columns</p>\n",
              "</div>\n",
              "      <button class=\"colab-df-convert\" onclick=\"convertToInteractive('df-c415a605-a660-4b41-ab1a-e349df5a8680')\"\n",
              "              title=\"Convert this dataframe to an interactive table.\"\n",
              "              style=\"display:none;\">\n",
              "        \n",
              "  <svg xmlns=\"http://www.w3.org/2000/svg\" height=\"24px\"viewBox=\"0 0 24 24\"\n",
              "       width=\"24px\">\n",
              "    <path d=\"M0 0h24v24H0V0z\" fill=\"none\"/>\n",
              "    <path d=\"M18.56 5.44l.94 2.06.94-2.06 2.06-.94-2.06-.94-.94-2.06-.94 2.06-2.06.94zm-11 1L8.5 8.5l.94-2.06 2.06-.94-2.06-.94L8.5 2.5l-.94 2.06-2.06.94zm10 10l.94 2.06.94-2.06 2.06-.94-2.06-.94-.94-2.06-.94 2.06-2.06.94z\"/><path d=\"M17.41 7.96l-1.37-1.37c-.4-.4-.92-.59-1.43-.59-.52 0-1.04.2-1.43.59L10.3 9.45l-7.72 7.72c-.78.78-.78 2.05 0 2.83L4 21.41c.39.39.9.59 1.41.59.51 0 1.02-.2 1.41-.59l7.78-7.78 2.81-2.81c.8-.78.8-2.07 0-2.86zM5.41 20L4 18.59l7.72-7.72 1.47 1.35L5.41 20z\"/>\n",
              "  </svg>\n",
              "      </button>\n",
              "      \n",
              "  <style>\n",
              "    .colab-df-container {\n",
              "      display:flex;\n",
              "      flex-wrap:wrap;\n",
              "      gap: 12px;\n",
              "    }\n",
              "\n",
              "    .colab-df-convert {\n",
              "      background-color: #E8F0FE;\n",
              "      border: none;\n",
              "      border-radius: 50%;\n",
              "      cursor: pointer;\n",
              "      display: none;\n",
              "      fill: #1967D2;\n",
              "      height: 32px;\n",
              "      padding: 0 0 0 0;\n",
              "      width: 32px;\n",
              "    }\n",
              "\n",
              "    .colab-df-convert:hover {\n",
              "      background-color: #E2EBFA;\n",
              "      box-shadow: 0px 1px 2px rgba(60, 64, 67, 0.3), 0px 1px 3px 1px rgba(60, 64, 67, 0.15);\n",
              "      fill: #174EA6;\n",
              "    }\n",
              "\n",
              "    [theme=dark] .colab-df-convert {\n",
              "      background-color: #3B4455;\n",
              "      fill: #D2E3FC;\n",
              "    }\n",
              "\n",
              "    [theme=dark] .colab-df-convert:hover {\n",
              "      background-color: #434B5C;\n",
              "      box-shadow: 0px 1px 3px 1px rgba(0, 0, 0, 0.15);\n",
              "      filter: drop-shadow(0px 1px 2px rgba(0, 0, 0, 0.3));\n",
              "      fill: #FFFFFF;\n",
              "    }\n",
              "  </style>\n",
              "\n",
              "      <script>\n",
              "        const buttonEl =\n",
              "          document.querySelector('#df-c415a605-a660-4b41-ab1a-e349df5a8680 button.colab-df-convert');\n",
              "        buttonEl.style.display =\n",
              "          google.colab.kernel.accessAllowed ? 'block' : 'none';\n",
              "\n",
              "        async function convertToInteractive(key) {\n",
              "          const element = document.querySelector('#df-c415a605-a660-4b41-ab1a-e349df5a8680');\n",
              "          const dataTable =\n",
              "            await google.colab.kernel.invokeFunction('convertToInteractive',\n",
              "                                                     [key], {});\n",
              "          if (!dataTable) return;\n",
              "\n",
              "          const docLinkHtml = 'Like what you see? Visit the ' +\n",
              "            '<a target=\"_blank\" href=https://colab.research.google.com/notebooks/data_table.ipynb>data table notebook</a>'\n",
              "            + ' to learn more about interactive tables.';\n",
              "          element.innerHTML = '';\n",
              "          dataTable['output_type'] = 'display_data';\n",
              "          await google.colab.output.renderOutput(dataTable, element);\n",
              "          const docLink = document.createElement('div');\n",
              "          docLink.innerHTML = docLinkHtml;\n",
              "          element.appendChild(docLink);\n",
              "        }\n",
              "      </script>\n",
              "    </div>\n",
              "  </div>\n",
              "  "
            ]
          },
          "metadata": {},
          "execution_count": 2
        }
      ],
      "source": [
        "import pandas as pd\n",
        "df = pd.read_csv(\"/content/drive/MyDrive/Suicide_Detection_clean.csv\", header=None)\n",
        "\n",
        "\n",
        "df = df[[2, 3]]\n",
        "df[3] = (df[3] == \"suicide\").astype(int)\n",
        "df[2] = df[2].astype(str)\n",
        "df = df.rename({3: \"target\", 2: \"text\"}, axis=1)\n",
        "df = df[:][1:]\n",
        "df"
      ]
    },
    {
      "cell_type": "code",
      "execution_count": null,
      "metadata": {
        "colab": {
          "base_uri": "https://localhost:8080/"
        },
        "id": "g-s1Xvn3j-1N",
        "outputId": "ca651195-698e-457e-8a55-5da9b0bf3f8a"
      },
      "outputs": [
        {
          "output_type": "stream",
          "name": "stdout",
          "text": [
            "Looking in indexes: https://pypi.org/simple, https://us-python.pkg.dev/colab-wheels/public/simple/\n",
            "Collecting transformers\n",
            "  Downloading transformers-4.29.1-py3-none-any.whl (7.1 MB)\n",
            "\u001b[2K     \u001b[90m━━━━━━━━━━━━━━━━━━━━━━━━━━━━━━━━━━━━━━━━\u001b[0m \u001b[32m7.1/7.1 MB\u001b[0m \u001b[31m52.1 MB/s\u001b[0m eta \u001b[36m0:00:00\u001b[0m\n",
            "\u001b[?25hRequirement already satisfied: filelock in /usr/local/lib/python3.10/dist-packages (from transformers) (3.12.0)\n",
            "Collecting huggingface-hub<1.0,>=0.14.1 (from transformers)\n",
            "  Downloading huggingface_hub-0.14.1-py3-none-any.whl (224 kB)\n",
            "\u001b[2K     \u001b[90m━━━━━━━━━━━━━━━━━━━━━━━━━━━━━━━━━━━━━━\u001b[0m \u001b[32m224.5/224.5 kB\u001b[0m \u001b[31m26.5 MB/s\u001b[0m eta \u001b[36m0:00:00\u001b[0m\n",
            "\u001b[?25hRequirement already satisfied: numpy>=1.17 in /usr/local/lib/python3.10/dist-packages (from transformers) (1.22.4)\n",
            "Requirement already satisfied: packaging>=20.0 in /usr/local/lib/python3.10/dist-packages (from transformers) (23.1)\n",
            "Requirement already satisfied: pyyaml>=5.1 in /usr/local/lib/python3.10/dist-packages (from transformers) (6.0)\n",
            "Requirement already satisfied: regex!=2019.12.17 in /usr/local/lib/python3.10/dist-packages (from transformers) (2022.10.31)\n",
            "Requirement already satisfied: requests in /usr/local/lib/python3.10/dist-packages (from transformers) (2.27.1)\n",
            "Collecting tokenizers!=0.11.3,<0.14,>=0.11.1 (from transformers)\n",
            "  Downloading tokenizers-0.13.3-cp310-cp310-manylinux_2_17_x86_64.manylinux2014_x86_64.whl (7.8 MB)\n",
            "\u001b[2K     \u001b[90m━━━━━━━━━━━━━━━━━━━━━━━━━━━━━━━━━━━━━━━━\u001b[0m \u001b[32m7.8/7.8 MB\u001b[0m \u001b[31m22.0 MB/s\u001b[0m eta \u001b[36m0:00:00\u001b[0m\n",
            "\u001b[?25hRequirement already satisfied: tqdm>=4.27 in /usr/local/lib/python3.10/dist-packages (from transformers) (4.65.0)\n",
            "Requirement already satisfied: fsspec in /usr/local/lib/python3.10/dist-packages (from huggingface-hub<1.0,>=0.14.1->transformers) (2023.4.0)\n",
            "Requirement already satisfied: typing-extensions>=3.7.4.3 in /usr/local/lib/python3.10/dist-packages (from huggingface-hub<1.0,>=0.14.1->transformers) (4.5.0)\n",
            "Requirement already satisfied: urllib3<1.27,>=1.21.1 in /usr/local/lib/python3.10/dist-packages (from requests->transformers) (1.26.15)\n",
            "Requirement already satisfied: certifi>=2017.4.17 in /usr/local/lib/python3.10/dist-packages (from requests->transformers) (2022.12.7)\n",
            "Requirement already satisfied: charset-normalizer~=2.0.0 in /usr/local/lib/python3.10/dist-packages (from requests->transformers) (2.0.12)\n",
            "Requirement already satisfied: idna<4,>=2.5 in /usr/local/lib/python3.10/dist-packages (from requests->transformers) (3.4)\n",
            "Installing collected packages: tokenizers, huggingface-hub, transformers\n",
            "Successfully installed huggingface-hub-0.14.1 tokenizers-0.13.3 transformers-4.29.1\n"
          ]
        }
      ],
      "source": [
        "# скачиваю локально библиотеку transformers для работы с готовыми моделями с hugging face\n",
        "# можно добавить в отчет, что мы использовали эту библиотеку\n",
        "pip install transformers"
      ]
    },
    {
      "cell_type": "code",
      "execution_count": null,
      "metadata": {
        "id": "yd3ISb4PdFUh"
      },
      "outputs": [],
      "source": [
        "import IPython\n",
        "from math import ceil\n",
        "import matplotlib.pyplot as plt\n",
        "import numpy as np\n",
        "import seaborn as sns\n",
        "\n",
        "import torch\n",
        "import torch.nn as nn\n",
        "from torch.utils.data import Dataset, DataLoader"
      ]
    },
    {
      "cell_type": "code",
      "execution_count": null,
      "metadata": {
        "colab": {
          "base_uri": "https://localhost:8080/",
          "height": 610,
          "referenced_widgets": [
            "5f93a52f77a44a7d897116804f11509f",
            "e250084d0a73453f9aeda90afd8010ca",
            "556755106b3140c59177d9a12e6d0e47",
            "d502e4a9d52e43d8a48573c30553a651",
            "1deb474e88f14e17afdd2fac1bcebd41",
            "8ce54a8e10a94b648addc5ecbdf6b952",
            "afa31413e43a4824a7e360f103992c80",
            "9f14d17f168e47689b1db9fb1b485d1b",
            "a35b886ab03e473cafb87c22b5a80b85",
            "50b5b3f41acc4bff8e680fc7036ad974",
            "1584bb6dbb724343a848eb3aaac89b01",
            "b6bc643f4af746e8bae5ac01a44c18f8",
            "22b71c8945c44bf3822e5d4fa310c3a0",
            "5be5380c8d744dd39267c27a7646dd84",
            "3af0edfd6cb4487a8b7dd78dc10f3def",
            "f8e3c9d230ce4f3b859b1dca14bfaf9b",
            "e6b65a22d9e243be99ef6a147276f637",
            "9c9e1b54480e45a687a20ae7a01411cc",
            "a1865c3c35264a55aa6408d903107bad",
            "4eb1ea1872e041e5a0c25e9f76d4473b",
            "abe4ed159deb4c57b53c8fc3129aad50",
            "3faaaae20a2448839f0837031271a9ee",
            "346a6c8efd514cdfbc2fd1f29d100cc8",
            "00abed5d785e4e19a716a24edba88a2e",
            "a6db681c09bf46b3b10880119da9862e",
            "c6b706857a044580bb16ef6de1ac8a7c",
            "6f4acfc8692a48cf8ade0ddfd4a81f6c",
            "2e1563c34c7c446085c23ef8011731af",
            "9ab8937a87fc4febb6a343a8d4226e12",
            "f53ef0861dfc40de8a35e74cf750bb1f",
            "13054cda365f48e991a90951bda2ab5b",
            "e834395f8c104fba938c320da7dcafec",
            "75526356bcc341c180541ebbf95d2ed1",
            "da1dcc44a723478ba013d815ba3671ea",
            "dad3cd1a7ff14d21bde626f09e59004d",
            "a65f843a78da43788ee00b3016b7ce5f",
            "1d4bf364a37041b0a02a6058851ae6cd",
            "25aae25615cb48b7987c181bcbabab67",
            "c937d18118de4c2e884450471dfc0782",
            "9da68889c98e428aa713c636c8d0938f",
            "a2f0f324bb3c4090abbac7afd5af18e9",
            "053e837b3cdb414483d7b66b3bec8a02",
            "f2fe02389e124fb1a947cab2dd2b908e",
            "c2808209afb7480c8988a243635a99d9",
            "4276888d86b34cb2b66e658d0fe917fe",
            "4ae61efe9b6641d6933655efc9bc0462",
            "4492e7f2f67140069d7880a49c1afcbc",
            "fcad1f3459f044c3a31ab38b2b467807",
            "c088267d671d400494d7c7fa40bd2c41",
            "76ab278f1a6348408d9441fec78160f7",
            "d181bf039e1443cebb81351e8e017cea",
            "9efd12d913964401b106a4e40da3ab8f",
            "e51ececbc0a9400c9bfe251cec3e52a9",
            "bcdda7d2a1564f46ba41e153478f6ac5",
            "1c7d52b965f848aeab877adac221babf"
          ]
        },
        "id": "KUUxlGG7jK_a",
        "outputId": "87f9c4e0-fe7d-4d5b-9bd2-f8c60193040f"
      },
      "outputs": [
        {
          "output_type": "display_data",
          "data": {
            "text/plain": [
              "Downloading (…)lve/main/config.json:   0%|          | 0.00/480 [00:00<?, ?B/s]"
            ],
            "application/vnd.jupyter.widget-view+json": {
              "version_major": 2,
              "version_minor": 0,
              "model_id": "5f93a52f77a44a7d897116804f11509f"
            }
          },
          "metadata": {}
        },
        {
          "output_type": "display_data",
          "data": {
            "text/plain": [
              "Downloading pytorch_model.bin:   0%|          | 0.00/331M [00:00<?, ?B/s]"
            ],
            "application/vnd.jupyter.widget-view+json": {
              "version_major": 2,
              "version_minor": 0,
              "model_id": "b6bc643f4af746e8bae5ac01a44c18f8"
            }
          },
          "metadata": {}
        },
        {
          "output_type": "display_data",
          "data": {
            "text/plain": [
              "Downloading (…)olve/main/vocab.json:   0%|          | 0.00/899k [00:00<?, ?B/s]"
            ],
            "application/vnd.jupyter.widget-view+json": {
              "version_major": 2,
              "version_minor": 0,
              "model_id": "346a6c8efd514cdfbc2fd1f29d100cc8"
            }
          },
          "metadata": {}
        },
        {
          "output_type": "display_data",
          "data": {
            "text/plain": [
              "Downloading (…)olve/main/merges.txt:   0%|          | 0.00/456k [00:00<?, ?B/s]"
            ],
            "application/vnd.jupyter.widget-view+json": {
              "version_major": 2,
              "version_minor": 0,
              "model_id": "da1dcc44a723478ba013d815ba3671ea"
            }
          },
          "metadata": {}
        },
        {
          "output_type": "display_data",
          "data": {
            "text/plain": [
              "Downloading (…)/main/tokenizer.json:   0%|          | 0.00/1.36M [00:00<?, ?B/s]"
            ],
            "application/vnd.jupyter.widget-view+json": {
              "version_major": 2,
              "version_minor": 0,
              "model_id": "4276888d86b34cb2b66e658d0fe917fe"
            }
          },
          "metadata": {}
        },
        {
          "output_type": "execute_result",
          "data": {
            "text/plain": [
              "([{'score': 0.04673680663108826,\n",
              "   'token': 265,\n",
              "   'token_str': ' business',\n",
              "   'sequence': \"Hello I'm a business model.\"},\n",
              "  {'score': 0.03846096992492676,\n",
              "   'token': 18150,\n",
              "   'token_str': ' freelance',\n",
              "   'sequence': \"Hello I'm a freelance model.\"},\n",
              "  {'score': 0.03308930993080139,\n",
              "   'token': 2734,\n",
              "   'token_str': ' fashion',\n",
              "   'sequence': \"Hello I'm a fashion model.\"},\n",
              "  {'score': 0.0301900003105402,\n",
              "   'token': 774,\n",
              "   'token_str': ' role',\n",
              "   'sequence': \"Hello I'm a role model.\"},\n",
              "  {'score': 0.021117402240633965,\n",
              "   'token': 24526,\n",
              "   'token_str': ' Playboy',\n",
              "   'sequence': \"Hello I'm a Playboy model.\"}],\n",
              " RobertaLMHead(\n",
              "   (dense): Linear(in_features=768, out_features=768, bias=True)\n",
              "   (layer_norm): LayerNorm((768,), eps=1e-05, elementwise_affine=True)\n",
              "   (decoder): Linear(in_features=768, out_features=50265, bias=True)\n",
              " ))"
            ]
          },
          "metadata": {},
          "execution_count": 9
        }
      ],
      "source": [
        "from transformers import pipeline\n",
        "\n",
        "fill_mask_pipeline = pipeline('fill-mask', model='distilroberta-base')\n",
        "fill_mask_pipeline(\"Hello I'm a <mask> model.\"), fill_mask_pipeline.model.lm_head"
      ]
    },
    {
      "cell_type": "code",
      "execution_count": null,
      "metadata": {
        "colab": {
          "base_uri": "https://localhost:8080/"
        },
        "id": "rIdtXRidr6b6",
        "outputId": "6f1b21ed-fda9-476e-a254-0d02dc84b8ef"
      },
      "outputs": [
        {
          "data": {
            "text/plain": [
              "[0, 1]"
            ]
          },
          "execution_count": 13,
          "metadata": {},
          "output_type": "execute_result"
        }
      ],
      "source": [
        "CLASS_NAMES = sorted(set(df.target))\n",
        "CLASS_NAMES"
      ]
    },
    {
      "cell_type": "code",
      "execution_count": null,
      "metadata": {
        "colab": {
          "base_uri": "https://localhost:8080/"
        },
        "id": "Ca1Mz7qKjOfh",
        "outputId": "0d72b4da-3093-4347-c958-f963e0751b8b"
      },
      "outputs": [
        {
          "data": {
            "text/plain": [
              "device(type='cuda')"
            ]
          },
          "execution_count": 14,
          "metadata": {},
          "output_type": "execute_result"
        }
      ],
      "source": [
        "# убираем голову берта и включаем cuda\n",
        "fill_mask_pipeline.model.lm_head = nn.Identity()\n",
        "device = torch.device(\"cuda\") if torch.cuda.is_available() else torch.device(\"cpu\")\n",
        "device"
      ]
    },
    {
      "cell_type": "code",
      "execution_count": null,
      "metadata": {
        "id": "CxQSjg4kjY3I"
      },
      "outputs": [],
      "source": [
        "# класс эмбеддингов, метод индексации __getitem__ возвращает эмбеддинг текста\n",
        "\n",
        "from sklearn.model_selection import train_test_split\n",
        "from torch.utils.data import Dataset, DataLoader\n",
        "\n",
        "class EmbeddingsOfTextDataset(Dataset):\n",
        "    def __init__(self, df, fill_mask_pipeline, class_names=CLASS_NAMES, device=device):\n",
        "        self.df = df\n",
        "        self.tokenizer = fill_mask_pipeline.tokenizer\n",
        "        self.preprocessor_model = fill_mask_pipeline.model\n",
        "        self.preprocessor_model.lm_head = nn.Identity()\n",
        "        self.preprocessor_model = self.preprocessor_model.to(device)\n",
        "        self.class_names = CLASS_NAMES\n",
        "        super().__init__()\n",
        "    \n",
        "    # метод возвращает длину эмбеддинга\n",
        "    def __len__(self):\n",
        "        return len(self.data)\n",
        "    \n",
        "    # метод возвращает эмбеддинг текста с данным индексом в датасете\n",
        "    def __getitem__(self, index):\n",
        "        tweet_info = self.df.iloc[index]\n",
        "        X = self.tokenizer(\n",
        "            tweet_info['text'],\n",
        "            truncation=True,\n",
        "            max_length=128,\n",
        "            return_tensors='pt'\n",
        "        )[\"input_ids\"]\n",
        "\n",
        "        X = X.to(device)\n",
        "        with torch.no_grad():\n",
        "          # берем сумму токенов берта\n",
        "            X = self.preprocessor_model.forward(X)[-1][0].sum(axis=0)\n",
        "\n",
        "      # подключение cpu для ускорения обучения модели\n",
        "        t = X.to(torch.device(\"cpu\"))\n",
        "        del X\n",
        "        return t, tweet_info[\"target\"]\n",
        "\n",
        "train_data, test_data = train_test_split(df)\n",
        "train_dataset = EmbeddingsOfTextDataset(train_data, fill_mask_pipeline)\n",
        "test_dataset = EmbeddingsOfTextDataset(test_data, fill_mask_pipeline)"
      ]
    },
    {
      "cell_type": "code",
      "execution_count": null,
      "metadata": {
        "colab": {
          "base_uri": "https://localhost:8080/",
          "height": 204
        },
        "id": "-67Nc3QxuEDk",
        "outputId": "93ed3331-6e60-4746-877d-f9bf5808b55c"
      },
      "outputs": [
        {
          "data": {
            "text/html": [
              "\n",
              "  <div id=\"df-b596ff6c-2588-4a48-94f4-22790a3be151\">\n",
              "    <div class=\"colab-df-container\">\n",
              "      <div>\n",
              "<style scoped>\n",
              "    .dataframe tbody tr th:only-of-type {\n",
              "        vertical-align: middle;\n",
              "    }\n",
              "\n",
              "    .dataframe tbody tr th {\n",
              "        vertical-align: top;\n",
              "    }\n",
              "\n",
              "    .dataframe thead th {\n",
              "        text-align: right;\n",
              "    }\n",
              "</style>\n",
              "<table border=\"1\" class=\"dataframe\">\n",
              "  <thead>\n",
              "    <tr style=\"text-align: right;\">\n",
              "      <th></th>\n",
              "      <th>text</th>\n",
              "      <th>target</th>\n",
              "    </tr>\n",
              "  </thead>\n",
              "  <tbody>\n",
              "    <tr>\n",
              "      <th>1</th>\n",
              "      <td>ex wife threatening suiciderecently i left my ...</td>\n",
              "      <td>1</td>\n",
              "    </tr>\n",
              "    <tr>\n",
              "      <th>2</th>\n",
              "      <td>am i weird i dont get affected by compliments ...</td>\n",
              "      <td>0</td>\n",
              "    </tr>\n",
              "    <tr>\n",
              "      <th>3</th>\n",
              "      <td>finally 2020 is almost over so i can never hea...</td>\n",
              "      <td>0</td>\n",
              "    </tr>\n",
              "    <tr>\n",
              "      <th>4</th>\n",
              "      <td>i need helpjust help im crying so hard</td>\n",
              "      <td>1</td>\n",
              "    </tr>\n",
              "    <tr>\n",
              "      <th>5</th>\n",
              "      <td>im so losthello my name is adam 16 and ive bee...</td>\n",
              "      <td>1</td>\n",
              "    </tr>\n",
              "  </tbody>\n",
              "</table>\n",
              "</div>\n",
              "      <button class=\"colab-df-convert\" onclick=\"convertToInteractive('df-b596ff6c-2588-4a48-94f4-22790a3be151')\"\n",
              "              title=\"Convert this dataframe to an interactive table.\"\n",
              "              style=\"display:none;\">\n",
              "        \n",
              "  <svg xmlns=\"http://www.w3.org/2000/svg\" height=\"24px\"viewBox=\"0 0 24 24\"\n",
              "       width=\"24px\">\n",
              "    <path d=\"M0 0h24v24H0V0z\" fill=\"none\"/>\n",
              "    <path d=\"M18.56 5.44l.94 2.06.94-2.06 2.06-.94-2.06-.94-.94-2.06-.94 2.06-2.06.94zm-11 1L8.5 8.5l.94-2.06 2.06-.94-2.06-.94L8.5 2.5l-.94 2.06-2.06.94zm10 10l.94 2.06.94-2.06 2.06-.94-2.06-.94-.94-2.06-.94 2.06-2.06.94z\"/><path d=\"M17.41 7.96l-1.37-1.37c-.4-.4-.92-.59-1.43-.59-.52 0-1.04.2-1.43.59L10.3 9.45l-7.72 7.72c-.78.78-.78 2.05 0 2.83L4 21.41c.39.39.9.59 1.41.59.51 0 1.02-.2 1.41-.59l7.78-7.78 2.81-2.81c.8-.78.8-2.07 0-2.86zM5.41 20L4 18.59l7.72-7.72 1.47 1.35L5.41 20z\"/>\n",
              "  </svg>\n",
              "      </button>\n",
              "      \n",
              "  <style>\n",
              "    .colab-df-container {\n",
              "      display:flex;\n",
              "      flex-wrap:wrap;\n",
              "      gap: 12px;\n",
              "    }\n",
              "\n",
              "    .colab-df-convert {\n",
              "      background-color: #E8F0FE;\n",
              "      border: none;\n",
              "      border-radius: 50%;\n",
              "      cursor: pointer;\n",
              "      display: none;\n",
              "      fill: #1967D2;\n",
              "      height: 32px;\n",
              "      padding: 0 0 0 0;\n",
              "      width: 32px;\n",
              "    }\n",
              "\n",
              "    .colab-df-convert:hover {\n",
              "      background-color: #E2EBFA;\n",
              "      box-shadow: 0px 1px 2px rgba(60, 64, 67, 0.3), 0px 1px 3px 1px rgba(60, 64, 67, 0.15);\n",
              "      fill: #174EA6;\n",
              "    }\n",
              "\n",
              "    [theme=dark] .colab-df-convert {\n",
              "      background-color: #3B4455;\n",
              "      fill: #D2E3FC;\n",
              "    }\n",
              "\n",
              "    [theme=dark] .colab-df-convert:hover {\n",
              "      background-color: #434B5C;\n",
              "      box-shadow: 0px 1px 3px 1px rgba(0, 0, 0, 0.15);\n",
              "      filter: drop-shadow(0px 1px 2px rgba(0, 0, 0, 0.3));\n",
              "      fill: #FFFFFF;\n",
              "    }\n",
              "  </style>\n",
              "\n",
              "      <script>\n",
              "        const buttonEl =\n",
              "          document.querySelector('#df-b596ff6c-2588-4a48-94f4-22790a3be151 button.colab-df-convert');\n",
              "        buttonEl.style.display =\n",
              "          google.colab.kernel.accessAllowed ? 'block' : 'none';\n",
              "\n",
              "        async function convertToInteractive(key) {\n",
              "          const element = document.querySelector('#df-b596ff6c-2588-4a48-94f4-22790a3be151');\n",
              "          const dataTable =\n",
              "            await google.colab.kernel.invokeFunction('convertToInteractive',\n",
              "                                                     [key], {});\n",
              "          if (!dataTable) return;\n",
              "\n",
              "          const docLinkHtml = 'Like what you see? Visit the ' +\n",
              "            '<a target=\"_blank\" href=https://colab.research.google.com/notebooks/data_table.ipynb>data table notebook</a>'\n",
              "            + ' to learn more about interactive tables.';\n",
              "          element.innerHTML = '';\n",
              "          dataTable['output_type'] = 'display_data';\n",
              "          await google.colab.output.renderOutput(dataTable, element);\n",
              "          const docLink = document.createElement('div');\n",
              "          docLink.innerHTML = docLinkHtml;\n",
              "          element.appendChild(docLink);\n",
              "        }\n",
              "      </script>\n",
              "    </div>\n",
              "  </div>\n",
              "  "
            ],
            "text/plain": [
              "                                                text  target\n",
              "1  ex wife threatening suiciderecently i left my ...       1\n",
              "2  am i weird i dont get affected by compliments ...       0\n",
              "3  finally 2020 is almost over so i can never hea...       0\n",
              "4             i need helpjust help im crying so hard       1\n",
              "5  im so losthello my name is adam 16 and ive bee...       1"
            ]
          },
          "execution_count": 16,
          "metadata": {},
          "output_type": "execute_result"
        }
      ],
      "source": [
        "df.head()"
      ]
    },
    {
      "cell_type": "code",
      "execution_count": null,
      "metadata": {
        "colab": {
          "base_uri": "https://localhost:8080/"
        },
        "id": "4IkJx0UnJnOj",
        "outputId": "5d859b18-85d8-4f4b-ba51-e810ad39d9cd"
      },
      "outputs": [
        {
          "data": {
            "text/plain": [
              "0.5"
            ]
          },
          "execution_count": 20,
          "metadata": {},
          "output_type": "execute_result"
        }
      ],
      "source": [
        "# дисбаланса класса нет\n",
        "df['target'].sum() / len(df['target'])"
      ]
    },
    {
      "cell_type": "code",
      "execution_count": null,
      "metadata": {
        "colab": {
          "base_uri": "https://localhost:8080/"
        },
        "id": "F66ohYrPtMmd",
        "outputId": "f71f5e8c-d63e-4a16-affd-0352f2b57140"
      },
      "outputs": [
        {
          "data": {
            "text/plain": [
              "768"
            ]
          },
          "execution_count": 16,
          "metadata": {},
          "output_type": "execute_result"
        }
      ],
      "source": [
        "# размерность эмбеддинга\n",
        "len(test_dataset.__getitem__(1)[0])"
      ]
    },
    {
      "cell_type": "code",
      "execution_count": null,
      "metadata": {
        "colab": {
          "base_uri": "https://localhost:8080/",
          "height": 81,
          "referenced_widgets": [
            "6c8b5b81eac946b097682d2b229e9eec",
            "94c07edd474a49f48b1004b1972627ad",
            "5892a2c860d64fd5ab8d89114a70d38c",
            "b91fd1feed514a8cb159182e738fe3e6",
            "98cd6e4187d74581ab623875ce07a5c4",
            "2b150524bbcb460086be19ea5225be75",
            "952b165f008340e5895c9d6c74fab053",
            "198a51f8d5704819bcb5d63afb4ec887",
            "65ada1607f25488a8123fcfb4f955cfd",
            "da20af9048f94b6bbc059e9b56170fef",
            "3c98dc48a0f242efb2327aff68413e80",
            "c287ca1f53fa4ee3b9b108bbaae47947",
            "ae079f82bf7e46b6a4b9523292f01454",
            "aa51c40349d9405e9ff317363070ccbc",
            "e30b524bba6c4e48ad95e518ef1dfe30",
            "844a9d445e9244a280846972b1a7cf24",
            "da5ebcac21b14dec978f04a8eafa7059",
            "f013ed91b7dd43e399fc3b5385bd6d54",
            "1d6ecae20fce4014aca6656135ae1ee9",
            "7ef4591cdaff4e5f84bbad7a8f539551",
            "84a97c88eee94bebb76b7d27734377c5",
            "f9d5c8d7b0ef45c5afbcf57f954e39b6"
          ]
        },
        "id": "ecVTamE3r0Vi",
        "outputId": "76af998b-5b76-4f1f-a3c1-117876e6a2c4"
      },
      "outputs": [
        {
          "data": {
            "application/vnd.jupyter.widget-view+json": {
              "model_id": "6c8b5b81eac946b097682d2b229e9eec",
              "version_major": 2,
              "version_minor": 0
            },
            "text/plain": [
              "  0%|          | 0/174054 [00:00<?, ?it/s]"
            ]
          },
          "metadata": {},
          "output_type": "display_data"
        },
        {
          "data": {
            "application/vnd.jupyter.widget-view+json": {
              "model_id": "c287ca1f53fa4ee3b9b108bbaae47947",
              "version_major": 2,
              "version_minor": 0
            },
            "text/plain": [
              "  0%|          | 0/58019 [00:00<?, ?it/s]"
            ]
          },
          "metadata": {},
          "output_type": "display_data"
        }
      ],
      "source": [
        "# преобразование датасетов из текстов в эмбеддинги\n",
        "from tqdm.auto import tqdm\n",
        "X_train, y_train = [], []\n",
        "for X, Y in tqdm(train_dataset, total=len(train_data)):\n",
        "    X_train.append(X)\n",
        "    y_train.append(Y)\n",
        "\n",
        "\n",
        "X_test, y_test = [], []\n",
        "for X, Y in tqdm(test_dataset, total=len(test_data)):\n",
        "    X_test.append(X)\n",
        "    y_test.append(Y)"
      ]
    },
    {
      "cell_type": "code",
      "execution_count": null,
      "metadata": {
        "id": "eQEIJjZsCQXH"
      },
      "outputs": [],
      "source": [
        "# сохраняю датасеты в GoogleDrive\n",
        "\n",
        "n = \"suicide_texts\"\n",
        "folder = \"/content/drive/MyDrive/\"\n",
        "with open(f\"{folder}/train_X{n}.txt\", \"wb\") as f:\n",
        "    torch.save(X_train, f)\n",
        "\n",
        "with open(f\"{folder}/train_Y{n}.txt\", \"wb\") as f:\n",
        "    torch.save(y_train, f)\n",
        "\n",
        "\n",
        "with open(f\"{folder}/test_X{n}.txt\", \"wb\") as f:\n",
        "    torch.save(X_test, f)\n",
        "\n",
        "with open(f\"{folder}/test_Y{n}.txt\", \"wb\") as f:\n",
        "    torch.save(y_test, f)"
      ]
    },
    {
      "cell_type": "code",
      "execution_count": null,
      "metadata": {
        "id": "ZsqK4DUksD6c"
      },
      "outputs": [],
      "source": [
        "import pandas as pd\n",
        "import numpy as np\n",
        "import matplotlib.pyplot as plt\n",
        "import seaborn as sns\n",
        "\n",
        "from sklearn.pipeline import Pipeline\n",
        "from sklearn.preprocessing import PolynomialFeatures, StandardScaler, OneHotEncoder\n",
        "from sklearn.model_selection import cross_validate\n",
        "from sklearn.metrics import classification_report, accuracy_score, recall_score, precision_score, f1_score, roc_auc_score\n",
        "\n",
        "from sklearn.svm import LinearSVC\n",
        "\n",
        "from sklearn.model_selection import GridSearchCV, train_test_split, cross_val_score\n",
        "from sklearn.feature_selection import f_classif, chi2, mutual_info_classif, SelectKBest\n",
        "from sklearn.linear_model import LogisticRegression"
      ]
    },
    {
      "cell_type": "code",
      "execution_count": null,
      "metadata": {
        "id": "F0sk-yZTE0uA"
      },
      "outputs": [],
      "source": [
        "class DatasetFromFile:\n",
        "    def __init__(self, x_filepath, y_filepath):\n",
        "        self.x = torch.load(x_filepath)\n",
        "        self.y = torch.load(y_filepath)\n",
        "        \n",
        "    def __getitem__(self, index):\n",
        "        return self.x[index], torch.Tensor([self.y[index]]).float()\n",
        "    \n",
        "    def __len__(self):\n",
        "        return len(self.x)"
      ]
    },
    {
      "cell_type": "code",
      "execution_count": null,
      "metadata": {
        "id": "m5ofYAxRE2xR"
      },
      "outputs": [],
      "source": [
        "# экспорт данных из GoogleDrive\n",
        "m = \"suicide_texts\"\n",
        "chosen_folder = \"/content/drive/MyDrive/\"\n",
        "train_dataset_from_file = DatasetFromFile(f\"{chosen_folder}/train_X{m}.txt\", f\"{chosen_folder}/train_Y{m}.txt\")\n",
        "test_dataset_from_file = DatasetFromFile(f\"{chosen_folder}/test_X{m}.txt\", f\"{chosen_folder}/test_Y{m}.txt\")"
      ]
    },
    {
      "cell_type": "code",
      "execution_count": null,
      "metadata": {
        "id": "iEeS7UceFE2r"
      },
      "outputs": [],
      "source": [
        "train_X = np.stack(train_dataset_from_file.x, axis=0)\n",
        "train_y = np.stack(train_dataset_from_file.y, axis=0)\n",
        "test_X = np.stack(test_dataset_from_file.x, axis=0)\n",
        "test_y = np.stack(test_dataset_from_file.y, axis=0)"
      ]
    },
    {
      "cell_type": "code",
      "execution_count": null,
      "metadata": {
        "id": "GmeSpShFSK2L"
      },
      "outputs": [],
      "source": [
        "from sklearn.ensemble import BaggingClassifier, RandomForestClassifier\n",
        "from sklearn.metrics import accuracy_score, precision_score, recall_score, roc_auc_score\n",
        "from sklearn.model_selection import train_test_split\n",
        "from sklearn.tree import DecisionTreeClassifier\n",
        "from sklearn.model_selection import GridSearchCV\n",
        "from sklearn.linear_model import LogisticRegression\n",
        "\n",
        "import lightgbm as lgb"
      ]
    },
    {
      "cell_type": "code",
      "execution_count": null,
      "metadata": {
        "colab": {
          "base_uri": "https://localhost:8080/"
        },
        "id": "hRqZtEkpZHlX",
        "outputId": "eff11368-1531-4fe2-81b3-40c4d26346d5"
      },
      "outputs": [
        {
          "data": {
            "text/plain": [
              "(174054, 768)"
            ]
          },
          "execution_count": 21,
          "metadata": {},
          "output_type": "execute_result"
        }
      ],
      "source": [
        "# размер обучающего датасета \n",
        "train_X.shape"
      ]
    },
    {
      "cell_type": "code",
      "execution_count": null,
      "metadata": {
        "colab": {
          "base_uri": "https://localhost:8080/"
        },
        "id": "EY7Gz12dZKl6",
        "outputId": "11c9623c-818a-4344-e522-395763f14327"
      },
      "outputs": [
        {
          "data": {
            "text/plain": [
              "(58019, 768)"
            ]
          },
          "execution_count": 22,
          "metadata": {},
          "output_type": "execute_result"
        }
      ],
      "source": [
        "# размер тестового датасета\n",
        "test_X.shape"
      ]
    },
    {
      "cell_type": "markdown",
      "source": [
        "Далее представлено в основном две модели: градиентный бустинг LightGBM и логистическая регрессия. Для каждой модели пайплайн выглядит следующим образом: обучение модели, предсказание на тестовой выборке, вычисление метрик классификации и максимизация порога для таргета. "
      ],
      "metadata": {
        "id": "5utGd6Obgq7i"
      }
    },
    {
      "cell_type": "markdown",
      "metadata": {
        "id": "0olqggmYFSi4"
      },
      "source": [
        "LightGBM Boosting"
      ]
    },
    {
      "cell_type": "code",
      "execution_count": null,
      "metadata": {
        "id": "1by134-1Cd9q"
      },
      "outputs": [],
      "source": [
        "LGBM_clf = lgb.LGBMClassifier()"
      ]
    },
    {
      "cell_type": "code",
      "execution_count": null,
      "metadata": {
        "colab": {
          "base_uri": "https://localhost:8080/",
          "height": 74
        },
        "id": "8XRM8gWnSCpR",
        "outputId": "44df4286-b1bb-45ee-85d7-7808d3c0fe8d"
      },
      "outputs": [
        {
          "data": {
            "text/html": [
              "<style>#sk-container-id-1 {color: black;background-color: white;}#sk-container-id-1 pre{padding: 0;}#sk-container-id-1 div.sk-toggleable {background-color: white;}#sk-container-id-1 label.sk-toggleable__label {cursor: pointer;display: block;width: 100%;margin-bottom: 0;padding: 0.3em;box-sizing: border-box;text-align: center;}#sk-container-id-1 label.sk-toggleable__label-arrow:before {content: \"▸\";float: left;margin-right: 0.25em;color: #696969;}#sk-container-id-1 label.sk-toggleable__label-arrow:hover:before {color: black;}#sk-container-id-1 div.sk-estimator:hover label.sk-toggleable__label-arrow:before {color: black;}#sk-container-id-1 div.sk-toggleable__content {max-height: 0;max-width: 0;overflow: hidden;text-align: left;background-color: #f0f8ff;}#sk-container-id-1 div.sk-toggleable__content pre {margin: 0.2em;color: black;border-radius: 0.25em;background-color: #f0f8ff;}#sk-container-id-1 input.sk-toggleable__control:checked~div.sk-toggleable__content {max-height: 200px;max-width: 100%;overflow: auto;}#sk-container-id-1 input.sk-toggleable__control:checked~label.sk-toggleable__label-arrow:before {content: \"▾\";}#sk-container-id-1 div.sk-estimator input.sk-toggleable__control:checked~label.sk-toggleable__label {background-color: #d4ebff;}#sk-container-id-1 div.sk-label input.sk-toggleable__control:checked~label.sk-toggleable__label {background-color: #d4ebff;}#sk-container-id-1 input.sk-hidden--visually {border: 0;clip: rect(1px 1px 1px 1px);clip: rect(1px, 1px, 1px, 1px);height: 1px;margin: -1px;overflow: hidden;padding: 0;position: absolute;width: 1px;}#sk-container-id-1 div.sk-estimator {font-family: monospace;background-color: #f0f8ff;border: 1px dotted black;border-radius: 0.25em;box-sizing: border-box;margin-bottom: 0.5em;}#sk-container-id-1 div.sk-estimator:hover {background-color: #d4ebff;}#sk-container-id-1 div.sk-parallel-item::after {content: \"\";width: 100%;border-bottom: 1px solid gray;flex-grow: 1;}#sk-container-id-1 div.sk-label:hover label.sk-toggleable__label {background-color: #d4ebff;}#sk-container-id-1 div.sk-serial::before {content: \"\";position: absolute;border-left: 1px solid gray;box-sizing: border-box;top: 0;bottom: 0;left: 50%;z-index: 0;}#sk-container-id-1 div.sk-serial {display: flex;flex-direction: column;align-items: center;background-color: white;padding-right: 0.2em;padding-left: 0.2em;position: relative;}#sk-container-id-1 div.sk-item {position: relative;z-index: 1;}#sk-container-id-1 div.sk-parallel {display: flex;align-items: stretch;justify-content: center;background-color: white;position: relative;}#sk-container-id-1 div.sk-item::before, #sk-container-id-1 div.sk-parallel-item::before {content: \"\";position: absolute;border-left: 1px solid gray;box-sizing: border-box;top: 0;bottom: 0;left: 50%;z-index: -1;}#sk-container-id-1 div.sk-parallel-item {display: flex;flex-direction: column;z-index: 1;position: relative;background-color: white;}#sk-container-id-1 div.sk-parallel-item:first-child::after {align-self: flex-end;width: 50%;}#sk-container-id-1 div.sk-parallel-item:last-child::after {align-self: flex-start;width: 50%;}#sk-container-id-1 div.sk-parallel-item:only-child::after {width: 0;}#sk-container-id-1 div.sk-dashed-wrapped {border: 1px dashed gray;margin: 0 0.4em 0.5em 0.4em;box-sizing: border-box;padding-bottom: 0.4em;background-color: white;}#sk-container-id-1 div.sk-label label {font-family: monospace;font-weight: bold;display: inline-block;line-height: 1.2em;}#sk-container-id-1 div.sk-label-container {text-align: center;}#sk-container-id-1 div.sk-container {/* jupyter's `normalize.less` sets `[hidden] { display: none; }` but bootstrap.min.css set `[hidden] { display: none !important; }` so we also need the `!important` here to be able to override the default hidden behavior on the sphinx rendered scikit-learn.org. See: https://github.com/scikit-learn/scikit-learn/issues/21755 */display: inline-block !important;position: relative;}#sk-container-id-1 div.sk-text-repr-fallback {display: none;}</style><div id=\"sk-container-id-1\" class=\"sk-top-container\"><div class=\"sk-text-repr-fallback\"><pre>LGBMClassifier()</pre><b>In a Jupyter environment, please rerun this cell to show the HTML representation or trust the notebook. <br />On GitHub, the HTML representation is unable to render, please try loading this page with nbviewer.org.</b></div><div class=\"sk-container\" hidden><div class=\"sk-item\"><div class=\"sk-estimator sk-toggleable\"><input class=\"sk-toggleable__control sk-hidden--visually\" id=\"sk-estimator-id-1\" type=\"checkbox\" checked><label for=\"sk-estimator-id-1\" class=\"sk-toggleable__label sk-toggleable__label-arrow\">LGBMClassifier</label><div class=\"sk-toggleable__content\"><pre>LGBMClassifier()</pre></div></div></div></div></div>"
            ],
            "text/plain": [
              "LGBMClassifier()"
            ]
          },
          "execution_count": 26,
          "metadata": {},
          "output_type": "execute_result"
        }
      ],
      "source": [
        "LGBM_clf.fit(train_X, train_y)"
      ]
    },
    {
      "cell_type": "code",
      "execution_count": null,
      "metadata": {
        "colab": {
          "base_uri": "https://localhost:8080/",
          "height": 199
        },
        "id": "hyRrZ1c0Tzr3",
        "outputId": "7fbf8a29-4805-4d3c-dd68-1381cc65ddec"
      },
      "outputs": [
        {
          "output_type": "error",
          "ename": "NameError",
          "evalue": "ignored",
          "traceback": [
            "\u001b[0;31m---------------------------------------------------------------------------\u001b[0m",
            "\u001b[0;31mNameError\u001b[0m                                 Traceback (most recent call last)",
            "\u001b[0;32m<ipython-input-2-69da6184cf35>\u001b[0m in \u001b[0;36m<cell line: 1>\u001b[0;34m()\u001b[0m\n\u001b[0;32m----> 1\u001b[0;31m \u001b[0mprint\u001b[0m\u001b[0;34m(\u001b[0m\u001b[0;34m'ROC AUC train: '\u001b[0m\u001b[0;34m,\u001b[0m \u001b[0mroc_auc_score\u001b[0m\u001b[0;34m(\u001b[0m\u001b[0mtrain_y\u001b[0m\u001b[0;34m,\u001b[0m \u001b[0mLGBM_clf\u001b[0m\u001b[0;34m.\u001b[0m\u001b[0mpredict_proba\u001b[0m\u001b[0;34m(\u001b[0m\u001b[0mtrain_X\u001b[0m\u001b[0;34m)\u001b[0m\u001b[0;34m[\u001b[0m\u001b[0;34m:\u001b[0m\u001b[0;34m,\u001b[0m \u001b[0;36m1\u001b[0m\u001b[0;34m]\u001b[0m\u001b[0;34m)\u001b[0m\u001b[0;34m)\u001b[0m\u001b[0;34m\u001b[0m\u001b[0;34m\u001b[0m\u001b[0m\n\u001b[0m\u001b[1;32m      2\u001b[0m \u001b[0mprint\u001b[0m\u001b[0;34m(\u001b[0m\u001b[0;34m'ROC AUC test: '\u001b[0m\u001b[0;34m,\u001b[0m \u001b[0mroc_auc_score\u001b[0m\u001b[0;34m(\u001b[0m\u001b[0mtest_y\u001b[0m\u001b[0;34m,\u001b[0m \u001b[0mLGBM_clf\u001b[0m\u001b[0;34m.\u001b[0m\u001b[0mpredict_proba\u001b[0m\u001b[0;34m(\u001b[0m\u001b[0mtest_X\u001b[0m\u001b[0;34m)\u001b[0m\u001b[0;34m[\u001b[0m\u001b[0;34m:\u001b[0m\u001b[0;34m,\u001b[0m \u001b[0;36m1\u001b[0m\u001b[0;34m]\u001b[0m\u001b[0;34m)\u001b[0m\u001b[0;34m)\u001b[0m\u001b[0;34m\u001b[0m\u001b[0;34m\u001b[0m\u001b[0m\n",
            "\u001b[0;31mNameError\u001b[0m: name 'roc_auc_score' is not defined"
          ]
        }
      ],
      "source": [
        "print('ROC AUC train: ', roc_auc_score(train_y, LGBM_clf.predict_proba(train_X)[:, 1]))\n",
        "print('ROC AUC test: ', roc_auc_score(test_y, LGBM_clf.predict_proba(test_X)[:, 1]))"
      ]
    },
    {
      "cell_type": "code",
      "execution_count": null,
      "metadata": {
        "colab": {
          "base_uri": "https://localhost:8080/"
        },
        "id": "xV3jpzVVDPkA",
        "outputId": "9126c092-a496-48a8-ce4f-8a0d08afa08c"
      },
      "outputs": [
        {
          "name": "stdout",
          "output_type": "stream",
          "text": [
            "              precision    recall  f1-score   support\n",
            "\n",
            "           0       0.92      0.93      0.92     28921\n",
            "           1       0.93      0.92      0.92     29098\n",
            "\n",
            "    accuracy                           0.92     58019\n",
            "   macro avg       0.92      0.92      0.92     58019\n",
            "weighted avg       0.92      0.92      0.92     58019\n",
            "\n"
          ]
        }
      ],
      "source": [
        "print(classification_report(test_y, LGBM_clf.predict((test_X))))"
      ]
    },
    {
      "cell_type": "code",
      "execution_count": null,
      "metadata": {
        "id": "IXn5s4D5Dd9B"
      },
      "outputs": [],
      "source": [
        "y_pred_proba_lgb = LGBM_clf.predict_proba(train_X)[:, 1]"
      ]
    },
    {
      "cell_type": "code",
      "execution_count": null,
      "metadata": {
        "colab": {
          "base_uri": "https://localhost:8080/",
          "height": 449
        },
        "id": "k3tbNpI-Ei08",
        "outputId": "0b06c799-246a-48e3-8b78-4e8fa94f61a6"
      },
      "outputs": [
        {
          "data": {
            "image/png": "[encoded data removed]",
            "text/plain": [
              "<Figure size 640x480 with 1 Axes>"
            ]
          },
          "metadata": {},
          "output_type": "display_data"
        }
      ],
      "source": [
        "from sklearn.metrics import roc_curve\n",
        "from sklearn.metrics import RocCurveDisplay\n",
        "\n",
        "fpr, tpr, _ = roc_curve(train_y, y_pred_proba_lgb, pos_label=LGBM_clf.classes_[1])\n",
        "roc_display = RocCurveDisplay(fpr=fpr, tpr=tpr).plot()"
      ]
    },
    {
      "cell_type": "code",
      "execution_count": null,
      "metadata": {
        "colab": {
          "base_uri": "https://localhost:8080/",
          "height": 449
        },
        "id": "DYTI59-FE6g8",
        "outputId": "5fa320ae-076c-474a-89e6-3260214eca3c"
      },
      "outputs": [
        {
          "data": {
            "image/png": "[encoded data removed]",
            "text/plain": [
              "<Figure size 640x480 with 1 Axes>"
            ]
          },
          "metadata": {},
          "output_type": "display_data"
        }
      ],
      "source": [
        "from sklearn.metrics import precision_recall_curve\n",
        "from sklearn.metrics import PrecisionRecallDisplay\n",
        "\n",
        "prec, recall, _ = precision_recall_curve(train_y, y_pred_proba_lgb, pos_label=LGBM_clf.classes_[1])\n",
        "pr_display = PrecisionRecallDisplay(precision=prec, recall=recall).plot()"
      ]
    },
    {
      "cell_type": "code",
      "execution_count": null,
      "metadata": {
        "id": "ZjM5iysCF8d2"
      },
      "outputs": [],
      "source": [
        "def best_threshold(y_true, y_pred_proba, metric = 'recall', min_accuracy = 0.65):\n",
        "  \n",
        "  \n",
        "  #Функция выдает порог, максимизирующий фиксированную метрику классификации\n",
        "  #y_true - реальные значения таргета\n",
        "  #y_pred_proba - предсказанные вероятности\n",
        "  #metric - метрика классификации: recall, precision, f1\n",
        "  #min_accuracy - минимальная точность алгоритма\n",
        "\n",
        "    max_metric_value = 0\n",
        "    max_alpha = 0\n",
        "    accuracy = 0\n",
        "    enter_flg = False\n",
        "    for alpha in np.linspace(0, 1.0, 1000):\n",
        "        y_pred = (y_pred_proba >= alpha).astype(bool)\n",
        "        if accuracy_score(y_true, y_pred) >= min_accuracy:\n",
        "            enter_flg = True\n",
        "            if metric == 'recall':\n",
        "                if recall_score(y_true, y_pred) > max_metric_value:\n",
        "                    max_alpha = alpha\n",
        "                    max_metric_value = recall_score(y_true, y_pred)\n",
        "                    accuracy = accuracy_score(y_true, y_pred)\n",
        "            if metric == 'precision':\n",
        "                if recall_score(y_true, y_pred) > max_metric_value:\n",
        "                    max_alpha = alpha\n",
        "                    max_metric_value = precision_score(y_true, y_pred)\n",
        "                    accuracy = accuracy_score(y_true, y_pred)\n",
        "            if metric == 'f1':\n",
        "                if recall_score(y_true, y_pred) > max_metric_value:\n",
        "                    max_alpha = alpha\n",
        "                    max_metric_value = f1_score(y_true, y_pred)\n",
        "                    accuracy = accuracy_score(y_true, y_pred)\n",
        "                \n",
        "    if enter_flg:\n",
        "        return {'Threshold' : max_alpha, 'Metric': metric, metric: max_metric_value, 'Accuracy' : accuracy}\n",
        "    else:\n",
        "        return f'Не подходит условию Accuracy >= {min_accuracy}'"
      ]
    },
    {
      "cell_type": "code",
      "execution_count": null,
      "metadata": {
        "colab": {
          "base_uri": "https://localhost:8080/"
        },
        "id": "UdoMgiDBDgOq",
        "outputId": "72f1141b-f32a-4710-fea5-c8b45c1eb583"
      },
      "outputs": [
        {
          "data": {
            "text/plain": [
              "{'Threshold': 0.48148148148148145,\n",
              " 'Metric': 'f1',\n",
              " 'f1': 0.9321609918514983,\n",
              " 'Accuracy': 0.932222183919933}"
            ]
          },
          "execution_count": 59,
          "metadata": {},
          "output_type": "execute_result"
        }
      ],
      "source": [
        "best_threshold(train_y, y_pred_proba_lgb, metric = 'f1')"
      ]
    },
    {
      "cell_type": "markdown",
      "metadata": {
        "id": "7O4ICJKaGD9_"
      },
      "source": [
        "Logistic Regression"
      ]
    },
    {
      "cell_type": "code",
      "execution_count": null,
      "metadata": {
        "id": "az0x5rI6RgzW"
      },
      "outputs": [],
      "source": [
        "clf_lr = LogisticRegression()"
      ]
    },
    {
      "cell_type": "code",
      "execution_count": null,
      "metadata": {
        "colab": {
          "base_uri": "https://localhost:8080/",
          "height": 230
        },
        "id": "wKTWxV8BDSgg",
        "outputId": "5272dcac-9f24-44e3-f41c-edacc1a51110"
      },
      "outputs": [
        {
          "name": "stderr",
          "output_type": "stream",
          "text": [
            "/usr/local/lib/python3.10/dist-packages/sklearn/linear_model/_logistic.py:458: ConvergenceWarning: lbfgs failed to converge (status=1):\n",
            "STOP: TOTAL NO. of ITERATIONS REACHED LIMIT.\n",
            "\n",
            "Increase the number of iterations (max_iter) or scale the data as shown in:\n",
            "    https://scikit-learn.org/stable/modules/preprocessing.html\n",
            "Please also refer to the documentation for alternative solver options:\n",
            "    https://scikit-learn.org/stable/modules/linear_model.html#logistic-regression\n",
            "  n_iter_i = _check_optimize_result(\n"
          ]
        },
        {
          "data": {
            "text/html": [
              "<style>#sk-container-id-2 {color: black;background-color: white;}#sk-container-id-2 pre{padding: 0;}#sk-container-id-2 div.sk-toggleable {background-color: white;}#sk-container-id-2 label.sk-toggleable__label {cursor: pointer;display: block;width: 100%;margin-bottom: 0;padding: 0.3em;box-sizing: border-box;text-align: center;}#sk-container-id-2 label.sk-toggleable__label-arrow:before {content: \"▸\";float: left;margin-right: 0.25em;color: #696969;}#sk-container-id-2 label.sk-toggleable__label-arrow:hover:before {color: black;}#sk-container-id-2 div.sk-estimator:hover label.sk-toggleable__label-arrow:before {color: black;}#sk-container-id-2 div.sk-toggleable__content {max-height: 0;max-width: 0;overflow: hidden;text-align: left;background-color: #f0f8ff;}#sk-container-id-2 div.sk-toggleable__content pre {margin: 0.2em;color: black;border-radius: 0.25em;background-color: #f0f8ff;}#sk-container-id-2 input.sk-toggleable__control:checked~div.sk-toggleable__content {max-height: 200px;max-width: 100%;overflow: auto;}#sk-container-id-2 input.sk-toggleable__control:checked~label.sk-toggleable__label-arrow:before {content: \"▾\";}#sk-container-id-2 div.sk-estimator input.sk-toggleable__control:checked~label.sk-toggleable__label {background-color: #d4ebff;}#sk-container-id-2 div.sk-label input.sk-toggleable__control:checked~label.sk-toggleable__label {background-color: #d4ebff;}#sk-container-id-2 input.sk-hidden--visually {border: 0;clip: rect(1px 1px 1px 1px);clip: rect(1px, 1px, 1px, 1px);height: 1px;margin: -1px;overflow: hidden;padding: 0;position: absolute;width: 1px;}#sk-container-id-2 div.sk-estimator {font-family: monospace;background-color: #f0f8ff;border: 1px dotted black;border-radius: 0.25em;box-sizing: border-box;margin-bottom: 0.5em;}#sk-container-id-2 div.sk-estimator:hover {background-color: #d4ebff;}#sk-container-id-2 div.sk-parallel-item::after {content: \"\";width: 100%;border-bottom: 1px solid gray;flex-grow: 1;}#sk-container-id-2 div.sk-label:hover label.sk-toggleable__label {background-color: #d4ebff;}#sk-container-id-2 div.sk-serial::before {content: \"\";position: absolute;border-left: 1px solid gray;box-sizing: border-box;top: 0;bottom: 0;left: 50%;z-index: 0;}#sk-container-id-2 div.sk-serial {display: flex;flex-direction: column;align-items: center;background-color: white;padding-right: 0.2em;padding-left: 0.2em;position: relative;}#sk-container-id-2 div.sk-item {position: relative;z-index: 1;}#sk-container-id-2 div.sk-parallel {display: flex;align-items: stretch;justify-content: center;background-color: white;position: relative;}#sk-container-id-2 div.sk-item::before, #sk-container-id-2 div.sk-parallel-item::before {content: \"\";position: absolute;border-left: 1px solid gray;box-sizing: border-box;top: 0;bottom: 0;left: 50%;z-index: -1;}#sk-container-id-2 div.sk-parallel-item {display: flex;flex-direction: column;z-index: 1;position: relative;background-color: white;}#sk-container-id-2 div.sk-parallel-item:first-child::after {align-self: flex-end;width: 50%;}#sk-container-id-2 div.sk-parallel-item:last-child::after {align-self: flex-start;width: 50%;}#sk-container-id-2 div.sk-parallel-item:only-child::after {width: 0;}#sk-container-id-2 div.sk-dashed-wrapped {border: 1px dashed gray;margin: 0 0.4em 0.5em 0.4em;box-sizing: border-box;padding-bottom: 0.4em;background-color: white;}#sk-container-id-2 div.sk-label label {font-family: monospace;font-weight: bold;display: inline-block;line-height: 1.2em;}#sk-container-id-2 div.sk-label-container {text-align: center;}#sk-container-id-2 div.sk-container {/* jupyter's `normalize.less` sets `[hidden] { display: none; }` but bootstrap.min.css set `[hidden] { display: none !important; }` so we also need the `!important` here to be able to override the default hidden behavior on the sphinx rendered scikit-learn.org. See: https://github.com/scikit-learn/scikit-learn/issues/21755 */display: inline-block !important;position: relative;}#sk-container-id-2 div.sk-text-repr-fallback {display: none;}</style><div id=\"sk-container-id-2\" class=\"sk-top-container\"><div class=\"sk-text-repr-fallback\"><pre>LogisticRegression()</pre><b>In a Jupyter environment, please rerun this cell to show the HTML representation or trust the notebook. <br />On GitHub, the HTML representation is unable to render, please try loading this page with nbviewer.org.</b></div><div class=\"sk-container\" hidden><div class=\"sk-item\"><div class=\"sk-estimator sk-toggleable\"><input class=\"sk-toggleable__control sk-hidden--visually\" id=\"sk-estimator-id-2\" type=\"checkbox\" checked><label for=\"sk-estimator-id-2\" class=\"sk-toggleable__label sk-toggleable__label-arrow\">LogisticRegression</label><div class=\"sk-toggleable__content\"><pre>LogisticRegression()</pre></div></div></div></div></div>"
            ],
            "text/plain": [
              "LogisticRegression()"
            ]
          },
          "execution_count": 49,
          "metadata": {},
          "output_type": "execute_result"
        }
      ],
      "source": [
        "clf_lr.fit(train_X, train_y)"
      ]
    },
    {
      "cell_type": "code",
      "execution_count": null,
      "metadata": {
        "colab": {
          "base_uri": "https://localhost:8080/"
        },
        "id": "CMtZMmtrGKUN",
        "outputId": "65c52115-9e9f-4bf2-ee4b-b02877aefa1d"
      },
      "outputs": [
        {
          "name": "stdout",
          "output_type": "stream",
          "text": [
            "ROC AUC train:  0.9714599283916265\n",
            "ROC AUC test:  0.9714606839616557\n"
          ]
        }
      ],
      "source": [
        "print('ROC AUC train: ', roc_auc_score(train_y, clf_lr.predict_proba(train_X)[:, 1]))\n",
        "print('ROC AUC test: ', roc_auc_score(test_y, clf_lr.predict_proba(test_X)[:, 1]))"
      ]
    },
    {
      "cell_type": "code",
      "execution_count": null,
      "metadata": {
        "colab": {
          "base_uri": "https://localhost:8080/"
        },
        "id": "sJQztKYNFyWd",
        "outputId": "f258260c-0dda-43b9-b8c5-053313745634"
      },
      "outputs": [
        {
          "name": "stdout",
          "output_type": "stream",
          "text": [
            "              precision    recall  f1-score   support\n",
            "\n",
            "           0       0.90      0.94      0.92     28921\n",
            "           1       0.94      0.89      0.92     29098\n",
            "\n",
            "    accuracy                           0.92     58019\n",
            "   macro avg       0.92      0.92      0.92     58019\n",
            "weighted avg       0.92      0.92      0.92     58019\n",
            "\n"
          ]
        }
      ],
      "source": [
        "print(classification_report(test_y, clf_lr.predict((test_X))))"
      ]
    },
    {
      "cell_type": "code",
      "execution_count": null,
      "metadata": {
        "id": "_kl0_dvwGQ_e"
      },
      "outputs": [],
      "source": [
        "y_pred_proba_lr = clf_lr.predict_proba(train_X)[:, 1]"
      ]
    },
    {
      "cell_type": "code",
      "execution_count": null,
      "metadata": {
        "colab": {
          "base_uri": "https://localhost:8080/",
          "height": 449
        },
        "id": "mOWOzoZuGWyH",
        "outputId": "dd51b4ce-a6f6-4c3a-e9df-135b274a84bc"
      },
      "outputs": [
        {
          "data": {
            "image/png": "[encoded data removed]",
            "text/plain": [
              "<Figure size 640x480 with 1 Axes>"
            ]
          },
          "metadata": {},
          "output_type": "display_data"
        }
      ],
      "source": [
        "from sklearn.metrics import roc_curve\n",
        "from sklearn.metrics import RocCurveDisplay\n",
        "\n",
        "fpr, tpr, _ = roc_curve(train_y, y_pred_proba_lr, pos_label=clf_lr.classes_[1])\n",
        "roc_display = RocCurveDisplay(fpr=fpr, tpr=tpr).plot()"
      ]
    },
    {
      "cell_type": "code",
      "execution_count": null,
      "metadata": {
        "colab": {
          "base_uri": "https://localhost:8080/",
          "height": 449
        },
        "id": "FVcA15ZVGfVp",
        "outputId": "eb2178ac-e1bb-4ad1-f3ef-348f3bef02c1"
      },
      "outputs": [
        {
          "data": {
            "image/png": "[encoded data removed]",
            "text/plain": [
              "<Figure size 640x480 with 1 Axes>"
            ]
          },
          "metadata": {},
          "output_type": "display_data"
        }
      ],
      "source": [
        "from sklearn.metrics import precision_recall_curve\n",
        "from sklearn.metrics import PrecisionRecallDisplay\n",
        "\n",
        "prec, recall, _ = precision_recall_curve(train_y, y_pred_proba_lr, pos_label=clf_lr.classes_[1])\n",
        "pr_display = PrecisionRecallDisplay(precision=prec, recall=recall).plot()"
      ]
    },
    {
      "cell_type": "code",
      "execution_count": null,
      "metadata": {
        "colab": {
          "base_uri": "https://localhost:8080/"
        },
        "id": "U05N4msne5xq",
        "outputId": "ed3f02aa-f531-4cfe-daf3-cf5944fa355e"
      },
      "outputs": [
        {
          "data": {
            "text/plain": [
              "{'Threshold': 0.38383838383838387,\n",
              " 'Metric': 'f1',\n",
              " 'f1': 0.9262707685957047,\n",
              " 'Accuracy': 0.9261148838866099}"
            ]
          },
          "execution_count": 56,
          "metadata": {},
          "output_type": "execute_result"
        }
      ],
      "source": [
        "best_threshold(train_y, y_pred_proba_lr, metric = 'f1')"
      ]
    },
    {
      "cell_type": "markdown",
      "metadata": {
        "id": "0hvPSAmDIbBF"
      },
      "source": [
        "KNN"
      ]
    },
    {
      "cell_type": "code",
      "execution_count": null,
      "metadata": {
        "colab": {
          "base_uri": "https://localhost:8080/",
          "height": 93
        },
        "id": "bxNB1Oo9MJyd",
        "outputId": "1048f514-84a5-4969-c052-095eaaa125ea"
      },
      "outputs": [
        {
          "output_type": "execute_result",
          "data": {
            "text/plain": [
              "KNeighborsClassifier()"
            ],
            "text/html": [
              "<style>#sk-container-id-1 {color: black;background-color: white;}#sk-container-id-1 pre{padding: 0;}#sk-container-id-1 div.sk-toggleable {background-color: white;}#sk-container-id-1 label.sk-toggleable__label {cursor: pointer;display: block;width: 100%;margin-bottom: 0;padding: 0.3em;box-sizing: border-box;text-align: center;}#sk-container-id-1 label.sk-toggleable__label-arrow:before {content: \"▸\";float: left;margin-right: 0.25em;color: #696969;}#sk-container-id-1 label.sk-toggleable__label-arrow:hover:before {color: black;}#sk-container-id-1 div.sk-estimator:hover label.sk-toggleable__label-arrow:before {color: black;}#sk-container-id-1 div.sk-toggleable__content {max-height: 0;max-width: 0;overflow: hidden;text-align: left;background-color: #f0f8ff;}#sk-container-id-1 div.sk-toggleable__content pre {margin: 0.2em;color: black;border-radius: 0.25em;background-color: #f0f8ff;}#sk-container-id-1 input.sk-toggleable__control:checked~div.sk-toggleable__content {max-height: 200px;max-width: 100%;overflow: auto;}#sk-container-id-1 input.sk-toggleable__control:checked~label.sk-toggleable__label-arrow:before {content: \"▾\";}#sk-container-id-1 div.sk-estimator input.sk-toggleable__control:checked~label.sk-toggleable__label {background-color: #d4ebff;}#sk-container-id-1 div.sk-label input.sk-toggleable__control:checked~label.sk-toggleable__label {background-color: #d4ebff;}#sk-container-id-1 input.sk-hidden--visually {border: 0;clip: rect(1px 1px 1px 1px);clip: rect(1px, 1px, 1px, 1px);height: 1px;margin: -1px;overflow: hidden;padding: 0;position: absolute;width: 1px;}#sk-container-id-1 div.sk-estimator {font-family: monospace;background-color: #f0f8ff;border: 1px dotted black;border-radius: 0.25em;box-sizing: border-box;margin-bottom: 0.5em;}#sk-container-id-1 div.sk-estimator:hover {background-color: #d4ebff;}#sk-container-id-1 div.sk-parallel-item::after {content: \"\";width: 100%;border-bottom: 1px solid gray;flex-grow: 1;}#sk-container-id-1 div.sk-label:hover label.sk-toggleable__label {background-color: #d4ebff;}#sk-container-id-1 div.sk-serial::before {content: \"\";position: absolute;border-left: 1px solid gray;box-sizing: border-box;top: 0;bottom: 0;left: 50%;z-index: 0;}#sk-container-id-1 div.sk-serial {display: flex;flex-direction: column;align-items: center;background-color: white;padding-right: 0.2em;padding-left: 0.2em;position: relative;}#sk-container-id-1 div.sk-item {position: relative;z-index: 1;}#sk-container-id-1 div.sk-parallel {display: flex;align-items: stretch;justify-content: center;background-color: white;position: relative;}#sk-container-id-1 div.sk-item::before, #sk-container-id-1 div.sk-parallel-item::before {content: \"\";position: absolute;border-left: 1px solid gray;box-sizing: border-box;top: 0;bottom: 0;left: 50%;z-index: -1;}#sk-container-id-1 div.sk-parallel-item {display: flex;flex-direction: column;z-index: 1;position: relative;background-color: white;}#sk-container-id-1 div.sk-parallel-item:first-child::after {align-self: flex-end;width: 50%;}#sk-container-id-1 div.sk-parallel-item:last-child::after {align-self: flex-start;width: 50%;}#sk-container-id-1 div.sk-parallel-item:only-child::after {width: 0;}#sk-container-id-1 div.sk-dashed-wrapped {border: 1px dashed gray;margin: 0 0.4em 0.5em 0.4em;box-sizing: border-box;padding-bottom: 0.4em;background-color: white;}#sk-container-id-1 div.sk-label label {font-family: monospace;font-weight: bold;display: inline-block;line-height: 1.2em;}#sk-container-id-1 div.sk-label-container {text-align: center;}#sk-container-id-1 div.sk-container {/* jupyter's `normalize.less` sets `[hidden] { display: none; }` but bootstrap.min.css set `[hidden] { display: none !important; }` so we also need the `!important` here to be able to override the default hidden behavior on the sphinx rendered scikit-learn.org. See: https://github.com/scikit-learn/scikit-learn/issues/21755 */display: inline-block !important;position: relative;}#sk-container-id-1 div.sk-text-repr-fallback {display: none;}</style><div id=\"sk-container-id-1\" class=\"sk-top-container\"><div class=\"sk-text-repr-fallback\"><pre>KNeighborsClassifier()</pre><b>In a Jupyter environment, please rerun this cell to show the HTML representation or trust the notebook. <br />On GitHub, the HTML representation is unable to render, please try loading this page with nbviewer.org.</b></div><div class=\"sk-container\" hidden><div class=\"sk-item\"><div class=\"sk-estimator sk-toggleable\"><input class=\"sk-toggleable__control sk-hidden--visually\" id=\"sk-estimator-id-1\" type=\"checkbox\" checked><label for=\"sk-estimator-id-1\" class=\"sk-toggleable__label sk-toggleable__label-arrow\">KNeighborsClassifier</label><div class=\"sk-toggleable__content\"><pre>KNeighborsClassifier()</pre></div></div></div></div></div>"
            ]
          },
          "metadata": {},
          "execution_count": 13
        }
      ],
      "source": [
        "from sklearn.neighbors import KNeighborsClassifier\n",
        "\n",
        "knn_clf = KNeighborsClassifier()\n",
        "\n",
        "knn_clf.fit(train_X, train_y)"
      ]
    },
    {
      "cell_type": "code",
      "execution_count": null,
      "metadata": {
        "id": "RFHxXIraMYts"
      },
      "outputs": [],
      "source": [
        "print(classification_report(test_y, knn_clf.predict((test_X))))"
      ]
    },
    {
      "cell_type": "code",
      "source": [
        "print('ROC AUC train: ', roc_auc_score(train_y, knn_clf.predict_proba(train_X)[:, 1]))\n",
        "print('ROC AUC test: ', roc_auc_score(test_y, knn_clf.predict_proba(test_X)[:, 1]))"
      ],
      "metadata": {
        "id": "R_yYK5ROFwK9"
      },
      "execution_count": null,
      "outputs": []
    },
    {
      "cell_type": "code",
      "execution_count": null,
      "metadata": {
        "id": "5c-LHL7fwCwu"
      },
      "outputs": [],
      "source": [
        "# сохранение моделей в формате pkl для дальнейшего использования в Rstudio\n",
        "\n",
        "import pickle\n",
        "pickle.dump(clf_lr, open('model.pkl', 'wb'))\n",
        "pickle.dump(LGBM_clf, open('model_lgb.pkl', 'wb'))"
      ]
    },
    {
      "cell_type": "code",
      "execution_count": null,
      "metadata": {
        "id": "BXPPCFKdwt4L"
      },
      "outputs": [],
      "source": [
        "import pickle\n",
        "clf_lr = pickle.load(open('model.pkl', 'rb'))\n",
        "LGBM_clf = pickle.load(open('model_lgb.pkl', 'rb'))"
      ]
    },
    {
      "cell_type": "code",
      "execution_count": null,
      "metadata": {
        "colab": {
          "base_uri": "https://localhost:8080/"
        },
        "id": "tehBM1gcCnXL",
        "outputId": "e9b21570-948c-4bfe-86c6-67befed9786c"
      },
      "outputs": [
        {
          "name": "stdout",
          "output_type": "stream",
          "text": [
            "i forced myself to keep going i cant do it anymoreposted on here about year ago nothings changed hope\n",
            "Real:  True\n",
            "Prediction:  False\n",
            "Probability:  0.2562078081635901\n",
            "~~~~~~~~\n",
            "fuck youi want to die i fucking hate everyone and everything i want to break everything and cannot not fuck up i ruin everything i do and can never seem to do anything right i want to fucking break everyones back across my knee and burn them alive i cant do wellll enough in school for anyone to be truly happy i have insane anxiety on where i will go to college and how i will do in life i hate myself more than anyone else because of my inability to ever to anything right why the hell was i born i didnt want to be born i want to break everything and am often filled with rage because of how much of failure i am i fucking hate how my family never shuts the hell up and argues about everything and i mean everything i hate that i dont have many friends and im unsure you could even call them that my only true friend was my girlfriend and she broke up with because im to much of fucking bum she was my everything and i for some reason am unable to let go of her i am currently drifting through the motions of life and i am watching everything slip away from that maybe my one and only my grades my friends my conscious i will do anything that will spike my dopamine level so i am able to escape reality after my girlfriend broke up with all i ever want to do is drugs because i makes fell gooood and allows to forgettt i have quit vaping gayest shit ever i will come to your house and beat you to bloody pulp if you do it and am trying to quit jerking off and smoking i am just disappointment to everyone around and dont feel able to maintain what is expected from sorry if you read this utter waste of your time\n",
            "Real:  True\n",
            "Prediction:  True\n",
            "Probability:  0.395433314753759\n",
            "~~~~~~~~\n",
            "i have confession i have slight reddit crush now i dont know this person but yeah they seem neat and cute\n",
            "Real:  False\n",
            "Prediction:  True\n",
            "Probability:  0.9946219364911233\n",
            "~~~~~~~~\n",
            "having hard time seeing the point and the purposesorry this is long post and i am having hard time organizing my thoughtsi dont know what to do i am finally in university and i feel like my high school burnout is creeping in again like i have this goal to eventually stop humans impact on animals and the environment and i just dont know if i have the strength to follow this to the end do these animals care that i do this like of course they care in that they have their autonomy and they wouldnt be stuck in factories crammed and watching their babies die but are they happy do they need to be i dont knowi wish there was an apocalypse that slowly wiped everyone out and left the world without humans it would be even better if they became filled with happiness as they were leaving it seems to that humans main goal is to be happy fulfilled i dont know if pursuing animal liberation would make happy but it feels like something that must be pursued i cant do this if im depressed all the timeto my earlier point i am depressed again it is like the end of high school when i started burning out and questioning myself and what was left i tried to kill myself the summer after i was embarrassed and ashamed to be found as i was i got handcuffed and sat on chair with the fucking cops reading my journal right then and there it was humiliating all the more because this was the place that i worked in and loved and i was ashamed to let down my family i suppose but now i am starting to burn out again first period of university i enjoy what i learn for the most part but it is hard to think about it all in cohesive way like why should i work on this essay for friday why should i put forth the effort just to live when i could gamble and check out the other side for long time now things like solipsism and consciousness and lucid dreaming have been really important in my worldview the idea that id wake up factored into my first suicide attempt lot honestly i kinda had have this idea that somehow if i were to become conscious enough of every thought and action i would be able to actualize myself and realize that i am always dreaming life could just be one big lucid dream that i could remould as i see fit why not try the other obvious way and slash my throat or hang myself and see how death really is but i am scared of failing again scared that it might be worsei just wish i had someone to talk to to reveal every thought and secret with to hug when i feel sad ive never been one to especially initiate friendships its easier to make friendships when you have an otherwise reason to be working with someone like just hanging out for the sake of hanging out feels so dubious to you never know if the other person is just humoring and putting up with you or if they genuinely enjoy your presence so why should i risk wasting their time or conversely i sometimes put up with people who i secretly get quite annoyed at or i come to really like someone but i am unsure if i really just want to be friends with this person or be in romantic relationship with them or both or mixture and i have let people crush on i dont know if i led them on but i ultimately havent been in relationship maybe i am the shit person few times i have opened up about certain things like when i told friend about my suicide attempt and that i was trans too am i being manipulative when i do this i feel like maybe i am one really wants to hear about sad depressed person it brings you down plus i think they came to understand it as just being manipulative i mean they were queer themselves and had hinted at some bits of the depression in the past so they thought i was just using this as leverage in forming closer relationship i mean maybe subconsciously i was doing that i dont know but i was just feeling super depressed about not talking with anyone about my issues and they seemed like the safe person to talk to this worry of being manipulative bothers nowadays too i dont really trust therapists and im kinda scared of suicide hotline probably dont even have enough money on my phone to sustain call with one haha so who should i turn to to tell how i feel i told my mom little about some of it but i can only tell her so much as i dont want to worry her especially when she is an ocean away ive met few friends who have been nice and listened to some of my woes before but i dont know if it would be fair to burden them with suicidal persons writings and of course there is always the risk they call the cops on you and i do not want that to happen againanother thing that perhaps been influencing my mood been my experimenting with more drugs since i got here i have tripped three times on truffles so far first time was generally fun and just listening to music second time was an allnight hell of nausea and paranoia third brought back bunch of memories and made homesick also i got drunk for the first time yesterday ugh but i feel that these trips kind of changed in way or at least made more aware of some things i dont know if that is worth getting into at the momentreally i dont know what to do i have an essay this friday and an exam next monday not that i really worry about exams and group presentation next thursday i just am having hard time with why i should keep living and it is fucking pain i probably left out some things i meant to say maybe i will think of it later\n",
            "Real:  True\n",
            "Prediction:  True\n",
            "Probability:  0.4639301876363988\n",
            "~~~~~~~~\n",
            "why do i get downvotes when all i want is minecraft sex and porn im trying to do my family favor advice\n",
            "Real:  False\n",
            "Prediction:  False\n",
            "Probability:  0.12844689793393718\n",
            "~~~~~~~~\n",
            "9mil to the chesthas anybody else shot themselves on purpose and survived i feel like i have nobody to relate with almost as if everyone whos shot them selves is dead makes sense fuck\n",
            "Real:  True\n",
            "Prediction:  True\n",
            "Probability:  0.8563318673509323\n",
            "~~~~~~~~\n",
            "do mods on the discord team check the appeals i was banned from the server in 2019 and have appealed couple of times since and havent even received an email or message saying id be fine being rejected i just wonder if they check\n",
            "Real:  False\n",
            "Prediction:  True\n",
            "Probability:  0.9990807828879399\n",
            "~~~~~~~~\n",
            "my music teacher just said the nword lol and now explains that it comes from the latin word redacted lmaooooooo\n",
            "Real:  False\n",
            "Prediction:  True\n",
            "Probability:  0.997597261292989\n",
            "~~~~~~~~\n",
            "ive decided that im going to be confident im gonna stand up for myself and im going to be happy im speaking it into existence fuck being sad pushover for now on im gonna be better im not going to try im going to do\n",
            "Real:  False\n",
            "Prediction:  True\n",
            "Probability:  0.9998939846828648\n",
            "~~~~~~~~\n",
            "been ignoring frfr i know hes about to cut offhttps openspotifycom track 4esgsqp2tzvvx0kadzzttmsitkjwwexyst8qytdvw01q\n",
            "Real:  False\n",
            "Prediction:  True\n",
            "Probability:  0.9998769668422451\n",
            "~~~~~~~~\n"
          ]
        }
      ],
      "source": [
        "# примеры предсказаний на тестовой выборке\n",
        "for i in range(10):\n",
        "  print(test_data.iloc[i].text)\n",
        "  print('Real: ', test_data.iloc[i].target == 1)\n",
        "  print('Prediction: ', clf_lr.predict_proba(test_X)[:, 1][i] >= 0.393939393939394)\n",
        "  print('Probability: ', clf_lr.predict_proba(test_X)[:, 1][i])\n",
        "  print('~~~~~~~~')\n"
      ]
    },
    {
      "cell_type": "code",
      "execution_count": null,
      "metadata": {
        "colab": {
          "base_uri": "https://localhost:8080/"
        },
        "id": "EZdNUEZTyIFm",
        "outputId": "6e695e59-1020-4151-b2b3-eb7ef2e050cf"
      },
      "outputs": [
        {
          "name": "stdout",
          "output_type": "stream",
          "text": [
            "im boycotting online classes i had to do online classes since the second semester of 8th grade in 2019 im not going to do anymore online classesid rather be unschooled than do online classesi dont give shit about coronafuck coronai need human interactionreopen my school ffs\n",
            "Real:  False\n",
            "Prediction:  False\n",
            "Probability:  0.06820205360775199\n",
            "~~~~~~~~\n",
            "32 f with my ex 32 m decade later still ruining my lifei got drunk and let rip on all of the emotionally abusive bs pulledin few hours will either have blocked or ignored i do not even care which i just want people past and present to respect my choices and my body i may be in pit of anxiety and depression right now and wine support is needed i had his abortioni tried to say we needed to talk about it all but wasnt interested now his gf is accidentally pregnant ad sees it as project and wants clone of him m 32 things have come to head and i have messaged him all of this i doubt i willl get reply and i am on my own tl dr had exs abortion did not want to know decade later still wreck\n",
            "Real:  True\n",
            "Prediction:  False\n",
            "Probability:  0.31241770140869585\n",
            "~~~~~~~~\n",
            "what type of ropea thick heavy or long one my parents are leaving to go for dinner tonight so my suicidal thoughts are coming in super fast im probably not going to do it bcuz idk if i have good rope i want to get one asap so i have the option of leaving whenever i want to and also for when i do end up leaving it will be all ready\n",
            "Real:  True\n",
            "Prediction:  True\n",
            "Probability:  0.9840782583927179\n",
            "~~~~~~~~\n",
            "why do people insult eachother for their interests for thats like the dumbest most ignorant thing someone can do besides being discriminatory like seriously oh you like anime youre weird and have life what oh youre furry you fuck animals thats not even what furry is its weird and sad to that because someone is different it means that theyre bad like its ok if its something they shouldnt like like sexualizing children etc but things that dont cause harm or just regards personal interest just leave them alone especially in an argument if you resort to insulting someone based on their personal interests thats just you trying to strike nerve and thats when you lose because you failed to get point across\n",
            "Real:  False\n",
            "Prediction:  False\n",
            "Probability:  0.39989125052269137\n",
            "~~~~~~~~\n",
            "complete lack of motivation is ruining my lifenow i understand that this isnt exactly related to suicide although thinking about the situation made think about suicide so i am an atheist and this basically lead to believe that anything i do is useless and impactless which in turn posioned to loose all motivation to do anything beyond basic survival which is absolutely killing my grades and other things in life of course i always was bit lazy but this isnt laziness i literally cant get myself to do some simple homework that is crucial to my passing of this grade the suicide thoughts tie in to how boring my life will be if i get 95 job death at the end etcive always had tons of friends and girls are obviously interested in so stop from ruining my life\n",
            "Real:  True\n",
            "Prediction:  False\n",
            "Probability:  0.32461511112744895\n",
            "~~~~~~~~\n",
            "people talk about backsliding i didnt just backslide i fell of the mountain and broke both my legspsa this is lengthy so theres tl dr at the bottomi grew up in dysfunctional home i have always had narcissistic passive aggressive mother who insisted on dominating my life sometimes i feel like norman bates my biodad didnt give shit and wasnt around much if at all the first stepdad started beating the shit out of when thought i was big enough to take it i have one brother by blood who legit tried to kill on two separate occasions and sold to prison gang when we were doing time together i was always considered bright intelligent and etc by counselors and caseworkers but i grew up in backward ass redneck school where that sort of thing was frowned upon i dropped out got expelled forget which at 15 never had much as far as friends or even acquaintances i didnt consent to sex with partner until i was 26 the longest ive ever been in romantic relationship is maybe 23 weeks im 32 years old ive been homeless off and on since i was 19 from 2226 i was in prison when i got out i struggled for long time i went to community college and dropped out because i couldnt handle the radical difference from prison life to school and work life i got job washing dishes and did okayish for little while i was homeless but i was working full time i managed to find place but lost it about month later due to my roommates then i started staying with my friend from work and her husband which was big mistake because i found myself involved in their drama and next thing i know i lost place to live and my job and got in trouble with the law again and had to do six weeks in jail was abusing her i came to her defense she sided with him when the law showed up luckily my parole was long over so it didnt screw with that i got it behind and had caseworker at homeless shelter try and make friends with but i was so broken inside that i wound up driving her away then my moment came i was living in the woods outside of town in tent i hadnt had job in almost year everyday was struggle just get through today and my mother was always needing something from even though she wouldnt help and i just couldnt do it anymore i gave up i quit enough was enough i tied noose and hung it from branch at my campsite and tried to hang myself but i guess i intentionally fucked up because the branch broke when i dropped and i just busted my ass i broke down sobbing for awhile before i got on my bike and just started riding didnt know where just had to go had to get away i flew through blind intersection without stopping or looking and if there had been another vehicle coming down the other lane then the truck wouldnt have been able to swerve and barely miss after that moment i realized i was glad to be alive i responded to job ad the next day few days after that i was working full time again i was becoming hopeful i stopped talking to my family which relieved lot of pressure too then couple months went by and i got mugged they took everything i had on my smartphone my backpack with my laptop from school years ago my money i had saved for place it was all gone but i had my job so i decided to soldier through i thought i had friends too there were lot of people there who seemed to like and praised for working so hard and being so nice i was never sure how to process that after so many years of shit people i found place to live got all my stuff replaced and even got new stuff like video games holy god have they gotten advanced my cut off was around the n64 it seemed like i had finally did it i had kept job for over year i hadnt been homeless in 8 months i was normal for the first time in my life i was normal regular human person with job and place to live and smartphone and video games and people at work liked and respected and there were girls interested in and i didnt know what the fuck was going on when the fuck did this happen dont i normally eat at soup kitchens and from dumpsters i sleep in the dirt and wander around all day getting dirty looks and being challenged to fistfights with other stinking hobos i have bed now im showered and shaved all the time instead of sporadically the closest analogy i can think of is the walking dead i was out there for so long that when i got to legit safe zone i forgot what it was like to be normal i dont think i ever knew to begin with i was just faking it hoping that eventually it would stick and i wouldnt be faking it anymore but it never happened and it cost my job i just couldnt process it i couldnt accept it all the years of fighting and struggling now that i was stable i was in good place i was just waiting for it all to be taken away from and my own fear of losing it all became self fulfilling prophecy 13 months there and i got nothing to show for it im two months behind on my rent so im losing my place my phone hasnt had service in over month i owe money left and right my mother and brother and guy who calls himself my friend are all tearing in different directions i cant get away from all the voices that are telling what to do and i can see some of things i need to do but then i become crippled with anxiety and end up inert doing nothing when i had my job i felt invincible like i could do anything now that ive lost it ive lost all my confidence ive lost all my superpowers i see nothing in my future ive spent so much time surviving that i have idea what i actually want in life im losing everything all over again and im in permanent panic mode and cant fix anything ive recently come to accept that there is more likely than not afterlife that when we die thats it lights out memories hopes fears sense of self nothing and frankly of all the options before that one is the most welcoming because ive spent 32 years on my own trying to get handle on this thing called life and its pretty fucking obvious that im completely retarded in this regard and i sincerely believe that i would be doing myself huge favor by just skipping ahead to the end because this inbetween sucks and im tired of trying i used to believe in love and common human decency in spite of everything i experienced and witnessed growing up but now i realize the cynics were right all along theres purpose in anything that anyone does all we can do is milk life for all its worth and i cant for some reason im broken on some fundamental level that forever keeps from experiencing joy there is nothing that i want anymore i dont see the point in anything and i just want it all to be over but for some stupid reason im here insteadtl dr grew up beaten and abused homeless since teen finally stabilized at 32 and couldnt handle being happy and normal i lost my job im losing my home and dont see the point in continuing this bullshit cycle of misery because i cant think of anything i want anymore if i ever did or could in the first place\n",
            "Real:  True\n",
            "Prediction:  True\n",
            "Probability:  0.7207291029429297\n",
            "~~~~~~~~\n",
            "teenagers got talent send anything and it will be judged in different thing such as creativity and effort but of course skill is the biggest thing i will have it diveded into different things for awards now show your moves\n",
            "Real:  False\n",
            "Prediction:  True\n",
            "Probability:  0.9831373655738104\n",
            "~~~~~~~~\n",
            "thoughts on c02 poisoningwhat are your thoughts on c02 poisoning as method for suicide painless easy any it wont work for sure\n",
            "Real:  True\n",
            "Prediction:  True\n",
            "Probability:  0.9660151751994143\n",
            "~~~~~~~~\n",
            "im planning on jumping off of bridge tomorrowall i see is catastrophe everywhere i look theres escape i dont want to feel anything anymore i dont want positive nor negative emotion i want to be non existent i dont want to see the future i dont want to see myself minute in the future or 5 years in the future i dont want to grow older id rather die young i dont care about the trauma ill be putting on to others it wont matter to because i wont see it ill be dead i dont care about what ill leave behind i dont care about pain if anything i deserve all the pain in the world i hope hell exists so i can suffer eternally id be happy to see myself in an eternal state of sufferingi disgust myself every time i look in the mirror i hope the worst for myselfi hope i jump and then i change my mind after but realize its too late and die anyway i hope i dont die on impact either i hope i drown\n",
            "Real:  True\n",
            "Prediction:  True\n",
            "Probability:  0.9603527411902032\n",
            "~~~~~~~~\n",
            "i dont know what is wrong with i am not depressed yet i think about suicidethe title explains it all there is nothing wrong with my life to make feel like this i feel horrible for thinking about suicide because there is other people out there who are in worse situation than this is problem i dealt with majority of my life ive always felt alone doesnt matter if i am with family or friends and always been emotionally distant i dont see the purpose of my existence anyway i tried once sometime in november 2018 but it stressed my parents out and havent attempted again since m ive thought of ways to kill myself in the future im basically waiting for the right time i dont know why i wrote this i dont know why im suicidal but i am not depressed\n",
            "Real:  True\n",
            "Prediction:  True\n",
            "Probability:  0.9778220303535106\n",
            "~~~~~~~~\n"
          ]
        }
      ],
      "source": [
        "for i in range(10):\n",
        "  print(test_data.iloc[i].text)\n",
        "  print('Real: ', test_data.iloc[i].target == 1)\n",
        "  print('Prediction: ', LGBM_clf.predict_proba(test_X)[:, 1][i] >= 0.481)\n",
        "  print('Probability: ', LGBM_clf.predict_proba(test_X)[:, 1][i])\n",
        "  print('~~~~~~~~')"
      ]
    },
    {
      "cell_type": "code",
      "execution_count": null,
      "metadata": {
        "colab": {
          "base_uri": "https://localhost:8080/"
        },
        "id": "hco5ScQgLk_J",
        "outputId": "2e33b465-44f6-41fd-b944-3bfe9310bcbe"
      },
      "outputs": [
        {
          "name": "stdout",
          "output_type": "stream",
          "text": [
            "              precision    recall  f1-score   support\n",
            "\n",
            "           0       0.92      0.92      0.92     28921\n",
            "           1       0.92      0.92      0.92     29098\n",
            "\n",
            "    accuracy                           0.92     58019\n",
            "   macro avg       0.92      0.92      0.92     58019\n",
            "weighted avg       0.92      0.92      0.92     58019\n",
            "\n"
          ]
        }
      ],
      "source": [
        "print(classification_report(test_y, LGBM_clf.predict_proba((test_X))[:, 1] >= 0.481))"
      ]
    },
    {
      "cell_type": "code",
      "execution_count": null,
      "metadata": {
        "colab": {
          "background_save": true,
          "base_uri": "https://localhost:8080/"
        },
        "id": "4QDUTtXfUD-9",
        "outputId": "b9fe7c2f-55ac-42fd-a5b4-92aa19dfff1b"
      },
      "outputs": [
        {
          "name": "stderr",
          "output_type": "stream",
          "text": [
            "/usr/local/lib/python3.10/dist-packages/sklearn/linear_model/_logistic.py:458: ConvergenceWarning: lbfgs failed to converge (status=1):\n",
            "STOP: TOTAL NO. of ITERATIONS REACHED LIMIT.\n",
            "\n",
            "Increase the number of iterations (max_iter) or scale the data as shown in:\n",
            "    https://scikit-learn.org/stable/modules/preprocessing.html\n",
            "Please also refer to the documentation for alternative solver options:\n",
            "    https://scikit-learn.org/stable/modules/linear_model.html#logistic-regression\n",
            "  n_iter_i = _check_optimize_result(\n",
            "/usr/local/lib/python3.10/dist-packages/sklearn/linear_model/_logistic.py:458: ConvergenceWarning: lbfgs failed to converge (status=1):\n",
            "STOP: TOTAL NO. of ITERATIONS REACHED LIMIT.\n",
            "\n",
            "Increase the number of iterations (max_iter) or scale the data as shown in:\n",
            "    https://scikit-learn.org/stable/modules/preprocessing.html\n",
            "Please also refer to the documentation for alternative solver options:\n",
            "    https://scikit-learn.org/stable/modules/linear_model.html#logistic-regression\n",
            "  n_iter_i = _check_optimize_result(\n",
            "/usr/local/lib/python3.10/dist-packages/sklearn/linear_model/_logistic.py:458: ConvergenceWarning: lbfgs failed to converge (status=1):\n",
            "STOP: TOTAL NO. of ITERATIONS REACHED LIMIT.\n",
            "\n",
            "Increase the number of iterations (max_iter) or scale the data as shown in:\n",
            "    https://scikit-learn.org/stable/modules/preprocessing.html\n",
            "Please also refer to the documentation for alternative solver options:\n",
            "    https://scikit-learn.org/stable/modules/linear_model.html#logistic-regression\n",
            "  n_iter_i = _check_optimize_result(\n",
            "/usr/local/lib/python3.10/dist-packages/sklearn/linear_model/_logistic.py:458: ConvergenceWarning: lbfgs failed to converge (status=1):\n",
            "STOP: TOTAL NO. of ITERATIONS REACHED LIMIT.\n",
            "\n",
            "Increase the number of iterations (max_iter) or scale the data as shown in:\n",
            "    https://scikit-learn.org/stable/modules/preprocessing.html\n",
            "Please also refer to the documentation for alternative solver options:\n",
            "    https://scikit-learn.org/stable/modules/linear_model.html#logistic-regression\n",
            "  n_iter_i = _check_optimize_result(\n",
            "/usr/local/lib/python3.10/dist-packages/sklearn/linear_model/_logistic.py:458: ConvergenceWarning: lbfgs failed to converge (status=1):\n",
            "STOP: TOTAL NO. of ITERATIONS REACHED LIMIT.\n",
            "\n",
            "Increase the number of iterations (max_iter) or scale the data as shown in:\n",
            "    https://scikit-learn.org/stable/modules/preprocessing.html\n",
            "Please also refer to the documentation for alternative solver options:\n",
            "    https://scikit-learn.org/stable/modules/linear_model.html#logistic-regression\n",
            "  n_iter_i = _check_optimize_result(\n",
            "/usr/local/lib/python3.10/dist-packages/sklearn/linear_model/_logistic.py:458: ConvergenceWarning: lbfgs failed to converge (status=1):\n",
            "STOP: TOTAL NO. of ITERATIONS REACHED LIMIT.\n",
            "\n",
            "Increase the number of iterations (max_iter) or scale the data as shown in:\n",
            "    https://scikit-learn.org/stable/modules/preprocessing.html\n",
            "Please also refer to the documentation for alternative solver options:\n",
            "    https://scikit-learn.org/stable/modules/linear_model.html#logistic-regression\n",
            "  n_iter_i = _check_optimize_result(\n"
          ]
        },
        {
          "data": {
            "text/plain": [
              "0.9271962632930592"
            ]
          },
          "execution_count": 40,
          "metadata": {},
          "output_type": "execute_result"
        }
      ],
      "source": [
        "from sklearn.ensemble import StackingClassifier\n",
        "estimators = [('logreg', clf_lr), ('lgb', LGBM_clf)]\n",
        "\n",
        "clf = StackingClassifier(\n",
        "     estimators=estimators, final_estimator=LogisticRegression()\n",
        ")\n",
        "\n",
        "clf.fit(train_X, train_y).score(test_X, test_y)"
      ]
    },
    {
      "cell_type": "code",
      "execution_count": null,
      "metadata": {
        "id": "Z2lgnohkViCi"
      },
      "outputs": [],
      "source": []
    }
  ],
  "metadata": {
    "accelerator": "GPU",
    "colab": {
      "provenance": []
    },
    "gpuClass": "standard",
    "kernelspec": {
      "display_name": "Python 3",
      "name": "python3"
    },
    "language_info": {
      "name": "python"
    },
    "widgets": {
      "application/vnd.jupyter.widget-state+json": {
        "198a51f8d5704819bcb5d63afb4ec887": {
          "model_module": "@jupyter-widgets/base",
          "model_module_version": "1.2.0",
          "model_name": "LayoutModel",
          "state": {
            "_model_module": "@jupyter-widgets/base",
            "_model_module_version": "1.2.0",
            "_model_name": "LayoutModel",
            "_view_count": null,
            "_view_module": "@jupyter-widgets/base",
            "_view_module_version": "1.2.0",
            "_view_name": "LayoutView",
            "align_content": null,
            "align_items": null,
            "align_self": null,
            "border": null,
            "bottom": null,
            "display": null,
            "flex": null,
            "flex_flow": null,
            "grid_area": null,
            "grid_auto_columns": null,
            "grid_auto_flow": null,
            "grid_auto_rows": null,
            "grid_column": null,
            "grid_gap": null,
            "grid_row": null,
            "grid_template_areas": null,
            "grid_template_columns": null,
            "grid_template_rows": null,
            "height": null,
            "justify_content": null,
            "justify_items": null,
            "left": null,
            "margin": null,
            "max_height": null,
            "max_width": null,
            "min_height": null,
            "min_width": null,
            "object_fit": null,
            "object_position": null,
            "order": null,
            "overflow": null,
            "overflow_x": null,
            "overflow_y": null,
            "padding": null,
            "right": null,
            "top": null,
            "visibility": null,
            "width": null
          }
        },
        "1d6ecae20fce4014aca6656135ae1ee9": {
          "model_module": "@jupyter-widgets/base",
          "model_module_version": "1.2.0",
          "model_name": "LayoutModel",
          "state": {
            "_model_module": "@jupyter-widgets/base",
            "_model_module_version": "1.2.0",
            "_model_name": "LayoutModel",
            "_view_count": null,
            "_view_module": "@jupyter-widgets/base",
            "_view_module_version": "1.2.0",
            "_view_name": "LayoutView",
            "align_content": null,
            "align_items": null,
            "align_self": null,
            "border": null,
            "bottom": null,
            "display": null,
            "flex": null,
            "flex_flow": null,
            "grid_area": null,
            "grid_auto_columns": null,
            "grid_auto_flow": null,
            "grid_auto_rows": null,
            "grid_column": null,
            "grid_gap": null,
            "grid_row": null,
            "grid_template_areas": null,
            "grid_template_columns": null,
            "grid_template_rows": null,
            "height": null,
            "justify_content": null,
            "justify_items": null,
            "left": null,
            "margin": null,
            "max_height": null,
            "max_width": null,
            "min_height": null,
            "min_width": null,
            "object_fit": null,
            "object_position": null,
            "order": null,
            "overflow": null,
            "overflow_x": null,
            "overflow_y": null,
            "padding": null,
            "right": null,
            "top": null,
            "visibility": null,
            "width": null
          }
        },
        "2b150524bbcb460086be19ea5225be75": {
          "model_module": "@jupyter-widgets/base",
          "model_module_version": "1.2.0",
          "model_name": "LayoutModel",
          "state": {
            "_model_module": "@jupyter-widgets/base",
            "_model_module_version": "1.2.0",
            "_model_name": "LayoutModel",
            "_view_count": null,
            "_view_module": "@jupyter-widgets/base",
            "_view_module_version": "1.2.0",
            "_view_name": "LayoutView",
            "align_content": null,
            "align_items": null,
            "align_self": null,
            "border": null,
            "bottom": null,
            "display": null,
            "flex": null,
            "flex_flow": null,
            "grid_area": null,
            "grid_auto_columns": null,
            "grid_auto_flow": null,
            "grid_auto_rows": null,
            "grid_column": null,
            "grid_gap": null,
            "grid_row": null,
            "grid_template_areas": null,
            "grid_template_columns": null,
            "grid_template_rows": null,
            "height": null,
            "justify_content": null,
            "justify_items": null,
            "left": null,
            "margin": null,
            "max_height": null,
            "max_width": null,
            "min_height": null,
            "min_width": null,
            "object_fit": null,
            "object_position": null,
            "order": null,
            "overflow": null,
            "overflow_x": null,
            "overflow_y": null,
            "padding": null,
            "right": null,
            "top": null,
            "visibility": null,
            "width": null
          }
        },
        "3c98dc48a0f242efb2327aff68413e80": {
          "model_module": "@jupyter-widgets/controls",
          "model_module_version": "1.5.0",
          "model_name": "DescriptionStyleModel",
          "state": {
            "_model_module": "@jupyter-widgets/controls",
            "_model_module_version": "1.5.0",
            "_model_name": "DescriptionStyleModel",
            "_view_count": null,
            "_view_module": "@jupyter-widgets/base",
            "_view_module_version": "1.2.0",
            "_view_name": "StyleView",
            "description_width": ""
          }
        },
        "5892a2c860d64fd5ab8d89114a70d38c": {
          "model_module": "@jupyter-widgets/controls",
          "model_module_version": "1.5.0",
          "model_name": "FloatProgressModel",
          "state": {
            "_dom_classes": [],
            "_model_module": "@jupyter-widgets/controls",
            "_model_module_version": "1.5.0",
            "_model_name": "FloatProgressModel",
            "_view_count": null,
            "_view_module": "@jupyter-widgets/controls",
            "_view_module_version": "1.5.0",
            "_view_name": "ProgressView",
            "bar_style": "success",
            "description": "",
            "description_tooltip": null,
            "layout": "IPY_MODEL_198a51f8d5704819bcb5d63afb4ec887",
            "max": 174054,
            "min": 0,
            "orientation": "horizontal",
            "style": "IPY_MODEL_65ada1607f25488a8123fcfb4f955cfd",
            "value": 174054
          }
        },
        "65ada1607f25488a8123fcfb4f955cfd": {
          "model_module": "@jupyter-widgets/controls",
          "model_module_version": "1.5.0",
          "model_name": "ProgressStyleModel",
          "state": {
            "_model_module": "@jupyter-widgets/controls",
            "_model_module_version": "1.5.0",
            "_model_name": "ProgressStyleModel",
            "_view_count": null,
            "_view_module": "@jupyter-widgets/base",
            "_view_module_version": "1.2.0",
            "_view_name": "StyleView",
            "bar_color": null,
            "description_width": ""
          }
        },
        "6c8b5b81eac946b097682d2b229e9eec": {
          "model_module": "@jupyter-widgets/controls",
          "model_module_version": "1.5.0",
          "model_name": "HBoxModel",
          "state": {
            "_dom_classes": [],
            "_model_module": "@jupyter-widgets/controls",
            "_model_module_version": "1.5.0",
            "_model_name": "HBoxModel",
            "_view_count": null,
            "_view_module": "@jupyter-widgets/controls",
            "_view_module_version": "1.5.0",
            "_view_name": "HBoxView",
            "box_style": "",
            "children": [
              "IPY_MODEL_94c07edd474a49f48b1004b1972627ad",
              "IPY_MODEL_5892a2c860d64fd5ab8d89114a70d38c",
              "IPY_MODEL_b91fd1feed514a8cb159182e738fe3e6"
            ],
            "layout": "IPY_MODEL_98cd6e4187d74581ab623875ce07a5c4"
          }
        },
        "7ef4591cdaff4e5f84bbad7a8f539551": {
          "model_module": "@jupyter-widgets/controls",
          "model_module_version": "1.5.0",
          "model_name": "ProgressStyleModel",
          "state": {
            "_model_module": "@jupyter-widgets/controls",
            "_model_module_version": "1.5.0",
            "_model_name": "ProgressStyleModel",
            "_view_count": null,
            "_view_module": "@jupyter-widgets/base",
            "_view_module_version": "1.2.0",
            "_view_name": "StyleView",
            "bar_color": null,
            "description_width": ""
          }
        },
        "844a9d445e9244a280846972b1a7cf24": {
          "model_module": "@jupyter-widgets/base",
          "model_module_version": "1.2.0",
          "model_name": "LayoutModel",
          "state": {
            "_model_module": "@jupyter-widgets/base",
            "_model_module_version": "1.2.0",
            "_model_name": "LayoutModel",
            "_view_count": null,
            "_view_module": "@jupyter-widgets/base",
            "_view_module_version": "1.2.0",
            "_view_name": "LayoutView",
            "align_content": null,
            "align_items": null,
            "align_self": null,
            "border": null,
            "bottom": null,
            "display": null,
            "flex": null,
            "flex_flow": null,
            "grid_area": null,
            "grid_auto_columns": null,
            "grid_auto_flow": null,
            "grid_auto_rows": null,
            "grid_column": null,
            "grid_gap": null,
            "grid_row": null,
            "grid_template_areas": null,
            "grid_template_columns": null,
            "grid_template_rows": null,
            "height": null,
            "justify_content": null,
            "justify_items": null,
            "left": null,
            "margin": null,
            "max_height": null,
            "max_width": null,
            "min_height": null,
            "min_width": null,
            "object_fit": null,
            "object_position": null,
            "order": null,
            "overflow": null,
            "overflow_x": null,
            "overflow_y": null,
            "padding": null,
            "right": null,
            "top": null,
            "visibility": null,
            "width": null
          }
        },
        "84a97c88eee94bebb76b7d27734377c5": {
          "model_module": "@jupyter-widgets/base",
          "model_module_version": "1.2.0",
          "model_name": "LayoutModel",
          "state": {
            "_model_module": "@jupyter-widgets/base",
            "_model_module_version": "1.2.0",
            "_model_name": "LayoutModel",
            "_view_count": null,
            "_view_module": "@jupyter-widgets/base",
            "_view_module_version": "1.2.0",
            "_view_name": "LayoutView",
            "align_content": null,
            "align_items": null,
            "align_self": null,
            "border": null,
            "bottom": null,
            "display": null,
            "flex": null,
            "flex_flow": null,
            "grid_area": null,
            "grid_auto_columns": null,
            "grid_auto_flow": null,
            "grid_auto_rows": null,
            "grid_column": null,
            "grid_gap": null,
            "grid_row": null,
            "grid_template_areas": null,
            "grid_template_columns": null,
            "grid_template_rows": null,
            "height": null,
            "justify_content": null,
            "justify_items": null,
            "left": null,
            "margin": null,
            "max_height": null,
            "max_width": null,
            "min_height": null,
            "min_width": null,
            "object_fit": null,
            "object_position": null,
            "order": null,
            "overflow": null,
            "overflow_x": null,
            "overflow_y": null,
            "padding": null,
            "right": null,
            "top": null,
            "visibility": null,
            "width": null
          }
        },
        "94c07edd474a49f48b1004b1972627ad": {
          "model_module": "@jupyter-widgets/controls",
          "model_module_version": "1.5.0",
          "model_name": "HTMLModel",
          "state": {
            "_dom_classes": [],
            "_model_module": "@jupyter-widgets/controls",
            "_model_module_version": "1.5.0",
            "_model_name": "HTMLModel",
            "_view_count": null,
            "_view_module": "@jupyter-widgets/controls",
            "_view_module_version": "1.5.0",
            "_view_name": "HTMLView",
            "description": "",
            "description_tooltip": null,
            "layout": "IPY_MODEL_2b150524bbcb460086be19ea5225be75",
            "placeholder": "​",
            "style": "IPY_MODEL_952b165f008340e5895c9d6c74fab053",
            "value": "100%"
          }
        },
        "952b165f008340e5895c9d6c74fab053": {
          "model_module": "@jupyter-widgets/controls",
          "model_module_version": "1.5.0",
          "model_name": "DescriptionStyleModel",
          "state": {
            "_model_module": "@jupyter-widgets/controls",
            "_model_module_version": "1.5.0",
            "_model_name": "DescriptionStyleModel",
            "_view_count": null,
            "_view_module": "@jupyter-widgets/base",
            "_view_module_version": "1.2.0",
            "_view_name": "StyleView",
            "description_width": ""
          }
        },
        "98cd6e4187d74581ab623875ce07a5c4": {
          "model_module": "@jupyter-widgets/base",
          "model_module_version": "1.2.0",
          "model_name": "LayoutModel",
          "state": {
            "_model_module": "@jupyter-widgets/base",
            "_model_module_version": "1.2.0",
            "_model_name": "LayoutModel",
            "_view_count": null,
            "_view_module": "@jupyter-widgets/base",
            "_view_module_version": "1.2.0",
            "_view_name": "LayoutView",
            "align_content": null,
            "align_items": null,
            "align_self": null,
            "border": null,
            "bottom": null,
            "display": null,
            "flex": null,
            "flex_flow": null,
            "grid_area": null,
            "grid_auto_columns": null,
            "grid_auto_flow": null,
            "grid_auto_rows": null,
            "grid_column": null,
            "grid_gap": null,
            "grid_row": null,
            "grid_template_areas": null,
            "grid_template_columns": null,
            "grid_template_rows": null,
            "height": null,
            "justify_content": null,
            "justify_items": null,
            "left": null,
            "margin": null,
            "max_height": null,
            "max_width": null,
            "min_height": null,
            "min_width": null,
            "object_fit": null,
            "object_position": null,
            "order": null,
            "overflow": null,
            "overflow_x": null,
            "overflow_y": null,
            "padding": null,
            "right": null,
            "top": null,
            "visibility": null,
            "width": null
          }
        },
        "aa51c40349d9405e9ff317363070ccbc": {
          "model_module": "@jupyter-widgets/controls",
          "model_module_version": "1.5.0",
          "model_name": "FloatProgressModel",
          "state": {
            "_dom_classes": [],
            "_model_module": "@jupyter-widgets/controls",
            "_model_module_version": "1.5.0",
            "_model_name": "FloatProgressModel",
            "_view_count": null,
            "_view_module": "@jupyter-widgets/controls",
            "_view_module_version": "1.5.0",
            "_view_name": "ProgressView",
            "bar_style": "success",
            "description": "",
            "description_tooltip": null,
            "layout": "IPY_MODEL_1d6ecae20fce4014aca6656135ae1ee9",
            "max": 58019,
            "min": 0,
            "orientation": "horizontal",
            "style": "IPY_MODEL_7ef4591cdaff4e5f84bbad7a8f539551",
            "value": 58019
          }
        },
        "ae079f82bf7e46b6a4b9523292f01454": {
          "model_module": "@jupyter-widgets/controls",
          "model_module_version": "1.5.0",
          "model_name": "HTMLModel",
          "state": {
            "_dom_classes": [],
            "_model_module": "@jupyter-widgets/controls",
            "_model_module_version": "1.5.0",
            "_model_name": "HTMLModel",
            "_view_count": null,
            "_view_module": "@jupyter-widgets/controls",
            "_view_module_version": "1.5.0",
            "_view_name": "HTMLView",
            "description": "",
            "description_tooltip": null,
            "layout": "IPY_MODEL_da5ebcac21b14dec978f04a8eafa7059",
            "placeholder": "​",
            "style": "IPY_MODEL_f013ed91b7dd43e399fc3b5385bd6d54",
            "value": "100%"
          }
        },
        "b91fd1feed514a8cb159182e738fe3e6": {
          "model_module": "@jupyter-widgets/controls",
          "model_module_version": "1.5.0",
          "model_name": "HTMLModel",
          "state": {
            "_dom_classes": [],
            "_model_module": "@jupyter-widgets/controls",
            "_model_module_version": "1.5.0",
            "_model_name": "HTMLModel",
            "_view_count": null,
            "_view_module": "@jupyter-widgets/controls",
            "_view_module_version": "1.5.0",
            "_view_name": "HTMLView",
            "description": "",
            "description_tooltip": null,
            "layout": "IPY_MODEL_da20af9048f94b6bbc059e9b56170fef",
            "placeholder": "​",
            "style": "IPY_MODEL_3c98dc48a0f242efb2327aff68413e80",
            "value": " 174054/174054 [25:24&lt;00:00, 134.97it/s]"
          }
        },
        "c287ca1f53fa4ee3b9b108bbaae47947": {
          "model_module": "@jupyter-widgets/controls",
          "model_module_version": "1.5.0",
          "model_name": "HBoxModel",
          "state": {
            "_dom_classes": [],
            "_model_module": "@jupyter-widgets/controls",
            "_model_module_version": "1.5.0",
            "_model_name": "HBoxModel",
            "_view_count": null,
            "_view_module": "@jupyter-widgets/controls",
            "_view_module_version": "1.5.0",
            "_view_name": "HBoxView",
            "box_style": "",
            "children": [
              "IPY_MODEL_ae079f82bf7e46b6a4b9523292f01454",
              "IPY_MODEL_aa51c40349d9405e9ff317363070ccbc",
              "IPY_MODEL_e30b524bba6c4e48ad95e518ef1dfe30"
            ],
            "layout": "IPY_MODEL_844a9d445e9244a280846972b1a7cf24"
          }
        },
        "da20af9048f94b6bbc059e9b56170fef": {
          "model_module": "@jupyter-widgets/base",
          "model_module_version": "1.2.0",
          "model_name": "LayoutModel",
          "state": {
            "_model_module": "@jupyter-widgets/base",
            "_model_module_version": "1.2.0",
            "_model_name": "LayoutModel",
            "_view_count": null,
            "_view_module": "@jupyter-widgets/base",
            "_view_module_version": "1.2.0",
            "_view_name": "LayoutView",
            "align_content": null,
            "align_items": null,
            "align_self": null,
            "border": null,
            "bottom": null,
            "display": null,
            "flex": null,
            "flex_flow": null,
            "grid_area": null,
            "grid_auto_columns": null,
            "grid_auto_flow": null,
            "grid_auto_rows": null,
            "grid_column": null,
            "grid_gap": null,
            "grid_row": null,
            "grid_template_areas": null,
            "grid_template_columns": null,
            "grid_template_rows": null,
            "height": null,
            "justify_content": null,
            "justify_items": null,
            "left": null,
            "margin": null,
            "max_height": null,
            "max_width": null,
            "min_height": null,
            "min_width": null,
            "object_fit": null,
            "object_position": null,
            "order": null,
            "overflow": null,
            "overflow_x": null,
            "overflow_y": null,
            "padding": null,
            "right": null,
            "top": null,
            "visibility": null,
            "width": null
          }
        },
        "da5ebcac21b14dec978f04a8eafa7059": {
          "model_module": "@jupyter-widgets/base",
          "model_module_version": "1.2.0",
          "model_name": "LayoutModel",
          "state": {
            "_model_module": "@jupyter-widgets/base",
            "_model_module_version": "1.2.0",
            "_model_name": "LayoutModel",
            "_view_count": null,
            "_view_module": "@jupyter-widgets/base",
            "_view_module_version": "1.2.0",
            "_view_name": "LayoutView",
            "align_content": null,
            "align_items": null,
            "align_self": null,
            "border": null,
            "bottom": null,
            "display": null,
            "flex": null,
            "flex_flow": null,
            "grid_area": null,
            "grid_auto_columns": null,
            "grid_auto_flow": null,
            "grid_auto_rows": null,
            "grid_column": null,
            "grid_gap": null,
            "grid_row": null,
            "grid_template_areas": null,
            "grid_template_columns": null,
            "grid_template_rows": null,
            "height": null,
            "justify_content": null,
            "justify_items": null,
            "left": null,
            "margin": null,
            "max_height": null,
            "max_width": null,
            "min_height": null,
            "min_width": null,
            "object_fit": null,
            "object_position": null,
            "order": null,
            "overflow": null,
            "overflow_x": null,
            "overflow_y": null,
            "padding": null,
            "right": null,
            "top": null,
            "visibility": null,
            "width": null
          }
        },
        "e30b524bba6c4e48ad95e518ef1dfe30": {
          "model_module": "@jupyter-widgets/controls",
          "model_module_version": "1.5.0",
          "model_name": "HTMLModel",
          "state": {
            "_dom_classes": [],
            "_model_module": "@jupyter-widgets/controls",
            "_model_module_version": "1.5.0",
            "_model_name": "HTMLModel",
            "_view_count": null,
            "_view_module": "@jupyter-widgets/controls",
            "_view_module_version": "1.5.0",
            "_view_name": "HTMLView",
            "description": "",
            "description_tooltip": null,
            "layout": "IPY_MODEL_84a97c88eee94bebb76b7d27734377c5",
            "placeholder": "​",
            "style": "IPY_MODEL_f9d5c8d7b0ef45c5afbcf57f954e39b6",
            "value": " 58019/58019 [08:09&lt;00:00, 100.79it/s]"
          }
        },
        "f013ed91b7dd43e399fc3b5385bd6d54": {
          "model_module": "@jupyter-widgets/controls",
          "model_module_version": "1.5.0",
          "model_name": "DescriptionStyleModel",
          "state": {
            "_model_module": "@jupyter-widgets/controls",
            "_model_module_version": "1.5.0",
            "_model_name": "DescriptionStyleModel",
            "_view_count": null,
            "_view_module": "@jupyter-widgets/base",
            "_view_module_version": "1.2.0",
            "_view_name": "StyleView",
            "description_width": ""
          }
        },
        "f9d5c8d7b0ef45c5afbcf57f954e39b6": {
          "model_module": "@jupyter-widgets/controls",
          "model_module_version": "1.5.0",
          "model_name": "DescriptionStyleModel",
          "state": {
            "_model_module": "@jupyter-widgets/controls",
            "_model_module_version": "1.5.0",
            "_model_name": "DescriptionStyleModel",
            "_view_count": null,
            "_view_module": "@jupyter-widgets/base",
            "_view_module_version": "1.2.0",
            "_view_name": "StyleView",
            "description_width": ""
          }
        },
        "5f93a52f77a44a7d897116804f11509f": {
          "model_module": "@jupyter-widgets/controls",
          "model_name": "HBoxModel",
          "model_module_version": "1.5.0",
          "state": {
            "_dom_classes": [],
            "_model_module": "@jupyter-widgets/controls",
            "_model_module_version": "1.5.0",
            "_model_name": "HBoxModel",
            "_view_count": null,
            "_view_module": "@jupyter-widgets/controls",
            "_view_module_version": "1.5.0",
            "_view_name": "HBoxView",
            "box_style": "",
            "children": [
              "IPY_MODEL_e250084d0a73453f9aeda90afd8010ca",
              "IPY_MODEL_556755106b3140c59177d9a12e6d0e47",
              "IPY_MODEL_d502e4a9d52e43d8a48573c30553a651"
            ],
            "layout": "IPY_MODEL_1deb474e88f14e17afdd2fac1bcebd41"
          }
        },
        "e250084d0a73453f9aeda90afd8010ca": {
          "model_module": "@jupyter-widgets/controls",
          "model_name": "HTMLModel",
          "model_module_version": "1.5.0",
          "state": {
            "_dom_classes": [],
            "_model_module": "@jupyter-widgets/controls",
            "_model_module_version": "1.5.0",
            "_model_name": "HTMLModel",
            "_view_count": null,
            "_view_module": "@jupyter-widgets/controls",
            "_view_module_version": "1.5.0",
            "_view_name": "HTMLView",
            "description": "",
            "description_tooltip": null,
            "layout": "IPY_MODEL_8ce54a8e10a94b648addc5ecbdf6b952",
            "placeholder": "​",
            "style": "IPY_MODEL_afa31413e43a4824a7e360f103992c80",
            "value": "Downloading (…)lve/main/config.json: 100%"
          }
        },
        "556755106b3140c59177d9a12e6d0e47": {
          "model_module": "@jupyter-widgets/controls",
          "model_name": "FloatProgressModel",
          "model_module_version": "1.5.0",
          "state": {
            "_dom_classes": [],
            "_model_module": "@jupyter-widgets/controls",
            "_model_module_version": "1.5.0",
            "_model_name": "FloatProgressModel",
            "_view_count": null,
            "_view_module": "@jupyter-widgets/controls",
            "_view_module_version": "1.5.0",
            "_view_name": "ProgressView",
            "bar_style": "success",
            "description": "",
            "description_tooltip": null,
            "layout": "IPY_MODEL_9f14d17f168e47689b1db9fb1b485d1b",
            "max": 480,
            "min": 0,
            "orientation": "horizontal",
            "style": "IPY_MODEL_a35b886ab03e473cafb87c22b5a80b85",
            "value": 480
          }
        },
        "d502e4a9d52e43d8a48573c30553a651": {
          "model_module": "@jupyter-widgets/controls",
          "model_name": "HTMLModel",
          "model_module_version": "1.5.0",
          "state": {
            "_dom_classes": [],
            "_model_module": "@jupyter-widgets/controls",
            "_model_module_version": "1.5.0",
            "_model_name": "HTMLModel",
            "_view_count": null,
            "_view_module": "@jupyter-widgets/controls",
            "_view_module_version": "1.5.0",
            "_view_name": "HTMLView",
            "description": "",
            "description_tooltip": null,
            "layout": "IPY_MODEL_50b5b3f41acc4bff8e680fc7036ad974",
            "placeholder": "​",
            "style": "IPY_MODEL_1584bb6dbb724343a848eb3aaac89b01",
            "value": " 480/480 [00:00&lt;00:00, 21.8kB/s]"
          }
        },
        "1deb474e88f14e17afdd2fac1bcebd41": {
          "model_module": "@jupyter-widgets/base",
          "model_name": "LayoutModel",
          "model_module_version": "1.2.0",
          "state": {
            "_model_module": "@jupyter-widgets/base",
            "_model_module_version": "1.2.0",
            "_model_name": "LayoutModel",
            "_view_count": null,
            "_view_module": "@jupyter-widgets/base",
            "_view_module_version": "1.2.0",
            "_view_name": "LayoutView",
            "align_content": null,
            "align_items": null,
            "align_self": null,
            "border": null,
            "bottom": null,
            "display": null,
            "flex": null,
            "flex_flow": null,
            "grid_area": null,
            "grid_auto_columns": null,
            "grid_auto_flow": null,
            "grid_auto_rows": null,
            "grid_column": null,
            "grid_gap": null,
            "grid_row": null,
            "grid_template_areas": null,
            "grid_template_columns": null,
            "grid_template_rows": null,
            "height": null,
            "justify_content": null,
            "justify_items": null,
            "left": null,
            "margin": null,
            "max_height": null,
            "max_width": null,
            "min_height": null,
            "min_width": null,
            "object_fit": null,
            "object_position": null,
            "order": null,
            "overflow": null,
            "overflow_x": null,
            "overflow_y": null,
            "padding": null,
            "right": null,
            "top": null,
            "visibility": null,
            "width": null
          }
        },
        "8ce54a8e10a94b648addc5ecbdf6b952": {
          "model_module": "@jupyter-widgets/base",
          "model_name": "LayoutModel",
          "model_module_version": "1.2.0",
          "state": {
            "_model_module": "@jupyter-widgets/base",
            "_model_module_version": "1.2.0",
            "_model_name": "LayoutModel",
            "_view_count": null,
            "_view_module": "@jupyter-widgets/base",
            "_view_module_version": "1.2.0",
            "_view_name": "LayoutView",
            "align_content": null,
            "align_items": null,
            "align_self": null,
            "border": null,
            "bottom": null,
            "display": null,
            "flex": null,
            "flex_flow": null,
            "grid_area": null,
            "grid_auto_columns": null,
            "grid_auto_flow": null,
            "grid_auto_rows": null,
            "grid_column": null,
            "grid_gap": null,
            "grid_row": null,
            "grid_template_areas": null,
            "grid_template_columns": null,
            "grid_template_rows": null,
            "height": null,
            "justify_content": null,
            "justify_items": null,
            "left": null,
            "margin": null,
            "max_height": null,
            "max_width": null,
            "min_height": null,
            "min_width": null,
            "object_fit": null,
            "object_position": null,
            "order": null,
            "overflow": null,
            "overflow_x": null,
            "overflow_y": null,
            "padding": null,
            "right": null,
            "top": null,
            "visibility": null,
            "width": null
          }
        },
        "afa31413e43a4824a7e360f103992c80": {
          "model_module": "@jupyter-widgets/controls",
          "model_name": "DescriptionStyleModel",
          "model_module_version": "1.5.0",
          "state": {
            "_model_module": "@jupyter-widgets/controls",
            "_model_module_version": "1.5.0",
            "_model_name": "DescriptionStyleModel",
            "_view_count": null,
            "_view_module": "@jupyter-widgets/base",
            "_view_module_version": "1.2.0",
            "_view_name": "StyleView",
            "description_width": ""
          }
        },
        "9f14d17f168e47689b1db9fb1b485d1b": {
          "model_module": "@jupyter-widgets/base",
          "model_name": "LayoutModel",
          "model_module_version": "1.2.0",
          "state": {
            "_model_module": "@jupyter-widgets/base",
            "_model_module_version": "1.2.0",
            "_model_name": "LayoutModel",
            "_view_count": null,
            "_view_module": "@jupyter-widgets/base",
            "_view_module_version": "1.2.0",
            "_view_name": "LayoutView",
            "align_content": null,
            "align_items": null,
            "align_self": null,
            "border": null,
            "bottom": null,
            "display": null,
            "flex": null,
            "flex_flow": null,
            "grid_area": null,
            "grid_auto_columns": null,
            "grid_auto_flow": null,
            "grid_auto_rows": null,
            "grid_column": null,
            "grid_gap": null,
            "grid_row": null,
            "grid_template_areas": null,
            "grid_template_columns": null,
            "grid_template_rows": null,
            "height": null,
            "justify_content": null,
            "justify_items": null,
            "left": null,
            "margin": null,
            "max_height": null,
            "max_width": null,
            "min_height": null,
            "min_width": null,
            "object_fit": null,
            "object_position": null,
            "order": null,
            "overflow": null,
            "overflow_x": null,
            "overflow_y": null,
            "padding": null,
            "right": null,
            "top": null,
            "visibility": null,
            "width": null
          }
        },
        "a35b886ab03e473cafb87c22b5a80b85": {
          "model_module": "@jupyter-widgets/controls",
          "model_name": "ProgressStyleModel",
          "model_module_version": "1.5.0",
          "state": {
            "_model_module": "@jupyter-widgets/controls",
            "_model_module_version": "1.5.0",
            "_model_name": "ProgressStyleModel",
            "_view_count": null,
            "_view_module": "@jupyter-widgets/base",
            "_view_module_version": "1.2.0",
            "_view_name": "StyleView",
            "bar_color": null,
            "description_width": ""
          }
        },
        "50b5b3f41acc4bff8e680fc7036ad974": {
          "model_module": "@jupyter-widgets/base",
          "model_name": "LayoutModel",
          "model_module_version": "1.2.0",
          "state": {
            "_model_module": "@jupyter-widgets/base",
            "_model_module_version": "1.2.0",
            "_model_name": "LayoutModel",
            "_view_count": null,
            "_view_module": "@jupyter-widgets/base",
            "_view_module_version": "1.2.0",
            "_view_name": "LayoutView",
            "align_content": null,
            "align_items": null,
            "align_self": null,
            "border": null,
            "bottom": null,
            "display": null,
            "flex": null,
            "flex_flow": null,
            "grid_area": null,
            "grid_auto_columns": null,
            "grid_auto_flow": null,
            "grid_auto_rows": null,
            "grid_column": null,
            "grid_gap": null,
            "grid_row": null,
            "grid_template_areas": null,
            "grid_template_columns": null,
            "grid_template_rows": null,
            "height": null,
            "justify_content": null,
            "justify_items": null,
            "left": null,
            "margin": null,
            "max_height": null,
            "max_width": null,
            "min_height": null,
            "min_width": null,
            "object_fit": null,
            "object_position": null,
            "order": null,
            "overflow": null,
            "overflow_x": null,
            "overflow_y": null,
            "padding": null,
            "right": null,
            "top": null,
            "visibility": null,
            "width": null
          }
        },
        "1584bb6dbb724343a848eb3aaac89b01": {
          "model_module": "@jupyter-widgets/controls",
          "model_name": "DescriptionStyleModel",
          "model_module_version": "1.5.0",
          "state": {
            "_model_module": "@jupyter-widgets/controls",
            "_model_module_version": "1.5.0",
            "_model_name": "DescriptionStyleModel",
            "_view_count": null,
            "_view_module": "@jupyter-widgets/base",
            "_view_module_version": "1.2.0",
            "_view_name": "StyleView",
            "description_width": ""
          }
        },
        "b6bc643f4af746e8bae5ac01a44c18f8": {
          "model_module": "@jupyter-widgets/controls",
          "model_name": "HBoxModel",
          "model_module_version": "1.5.0",
          "state": {
            "_dom_classes": [],
            "_model_module": "@jupyter-widgets/controls",
            "_model_module_version": "1.5.0",
            "_model_name": "HBoxModel",
            "_view_count": null,
            "_view_module": "@jupyter-widgets/controls",
            "_view_module_version": "1.5.0",
            "_view_name": "HBoxView",
            "box_style": "",
            "children": [
              "IPY_MODEL_22b71c8945c44bf3822e5d4fa310c3a0",
              "IPY_MODEL_5be5380c8d744dd39267c27a7646dd84",
              "IPY_MODEL_3af0edfd6cb4487a8b7dd78dc10f3def"
            ],
            "layout": "IPY_MODEL_f8e3c9d230ce4f3b859b1dca14bfaf9b"
          }
        },
        "22b71c8945c44bf3822e5d4fa310c3a0": {
          "model_module": "@jupyter-widgets/controls",
          "model_name": "HTMLModel",
          "model_module_version": "1.5.0",
          "state": {
            "_dom_classes": [],
            "_model_module": "@jupyter-widgets/controls",
            "_model_module_version": "1.5.0",
            "_model_name": "HTMLModel",
            "_view_count": null,
            "_view_module": "@jupyter-widgets/controls",
            "_view_module_version": "1.5.0",
            "_view_name": "HTMLView",
            "description": "",
            "description_tooltip": null,
            "layout": "IPY_MODEL_e6b65a22d9e243be99ef6a147276f637",
            "placeholder": "​",
            "style": "IPY_MODEL_9c9e1b54480e45a687a20ae7a01411cc",
            "value": "Downloading pytorch_model.bin: 100%"
          }
        },
        "5be5380c8d744dd39267c27a7646dd84": {
          "model_module": "@jupyter-widgets/controls",
          "model_name": "FloatProgressModel",
          "model_module_version": "1.5.0",
          "state": {
            "_dom_classes": [],
            "_model_module": "@jupyter-widgets/controls",
            "_model_module_version": "1.5.0",
            "_model_name": "FloatProgressModel",
            "_view_count": null,
            "_view_module": "@jupyter-widgets/controls",
            "_view_module_version": "1.5.0",
            "_view_name": "ProgressView",
            "bar_style": "success",
            "description": "",
            "description_tooltip": null,
            "layout": "IPY_MODEL_a1865c3c35264a55aa6408d903107bad",
            "max": 331070498,
            "min": 0,
            "orientation": "horizontal",
            "style": "IPY_MODEL_4eb1ea1872e041e5a0c25e9f76d4473b",
            "value": 331070498
          }
        },
        "3af0edfd6cb4487a8b7dd78dc10f3def": {
          "model_module": "@jupyter-widgets/controls",
          "model_name": "HTMLModel",
          "model_module_version": "1.5.0",
          "state": {
            "_dom_classes": [],
            "_model_module": "@jupyter-widgets/controls",
            "_model_module_version": "1.5.0",
            "_model_name": "HTMLModel",
            "_view_count": null,
            "_view_module": "@jupyter-widgets/controls",
            "_view_module_version": "1.5.0",
            "_view_name": "HTMLView",
            "description": "",
            "description_tooltip": null,
            "layout": "IPY_MODEL_abe4ed159deb4c57b53c8fc3129aad50",
            "placeholder": "​",
            "style": "IPY_MODEL_3faaaae20a2448839f0837031271a9ee",
            "value": " 331M/331M [00:02&lt;00:00, 138MB/s]"
          }
        },
        "f8e3c9d230ce4f3b859b1dca14bfaf9b": {
          "model_module": "@jupyter-widgets/base",
          "model_name": "LayoutModel",
          "model_module_version": "1.2.0",
          "state": {
            "_model_module": "@jupyter-widgets/base",
            "_model_module_version": "1.2.0",
            "_model_name": "LayoutModel",
            "_view_count": null,
            "_view_module": "@jupyter-widgets/base",
            "_view_module_version": "1.2.0",
            "_view_name": "LayoutView",
            "align_content": null,
            "align_items": null,
            "align_self": null,
            "border": null,
            "bottom": null,
            "display": null,
            "flex": null,
            "flex_flow": null,
            "grid_area": null,
            "grid_auto_columns": null,
            "grid_auto_flow": null,
            "grid_auto_rows": null,
            "grid_column": null,
            "grid_gap": null,
            "grid_row": null,
            "grid_template_areas": null,
            "grid_template_columns": null,
            "grid_template_rows": null,
            "height": null,
            "justify_content": null,
            "justify_items": null,
            "left": null,
            "margin": null,
            "max_height": null,
            "max_width": null,
            "min_height": null,
            "min_width": null,
            "object_fit": null,
            "object_position": null,
            "order": null,
            "overflow": null,
            "overflow_x": null,
            "overflow_y": null,
            "padding": null,
            "right": null,
            "top": null,
            "visibility": null,
            "width": null
          }
        },
        "e6b65a22d9e243be99ef6a147276f637": {
          "model_module": "@jupyter-widgets/base",
          "model_name": "LayoutModel",
          "model_module_version": "1.2.0",
          "state": {
            "_model_module": "@jupyter-widgets/base",
            "_model_module_version": "1.2.0",
            "_model_name": "LayoutModel",
            "_view_count": null,
            "_view_module": "@jupyter-widgets/base",
            "_view_module_version": "1.2.0",
            "_view_name": "LayoutView",
            "align_content": null,
            "align_items": null,
            "align_self": null,
            "border": null,
            "bottom": null,
            "display": null,
            "flex": null,
            "flex_flow": null,
            "grid_area": null,
            "grid_auto_columns": null,
            "grid_auto_flow": null,
            "grid_auto_rows": null,
            "grid_column": null,
            "grid_gap": null,
            "grid_row": null,
            "grid_template_areas": null,
            "grid_template_columns": null,
            "grid_template_rows": null,
            "height": null,
            "justify_content": null,
            "justify_items": null,
            "left": null,
            "margin": null,
            "max_height": null,
            "max_width": null,
            "min_height": null,
            "min_width": null,
            "object_fit": null,
            "object_position": null,
            "order": null,
            "overflow": null,
            "overflow_x": null,
            "overflow_y": null,
            "padding": null,
            "right": null,
            "top": null,
            "visibility": null,
            "width": null
          }
        },
        "9c9e1b54480e45a687a20ae7a01411cc": {
          "model_module": "@jupyter-widgets/controls",
          "model_name": "DescriptionStyleModel",
          "model_module_version": "1.5.0",
          "state": {
            "_model_module": "@jupyter-widgets/controls",
            "_model_module_version": "1.5.0",
            "_model_name": "DescriptionStyleModel",
            "_view_count": null,
            "_view_module": "@jupyter-widgets/base",
            "_view_module_version": "1.2.0",
            "_view_name": "StyleView",
            "description_width": ""
          }
        },
        "a1865c3c35264a55aa6408d903107bad": {
          "model_module": "@jupyter-widgets/base",
          "model_name": "LayoutModel",
          "model_module_version": "1.2.0",
          "state": {
            "_model_module": "@jupyter-widgets/base",
            "_model_module_version": "1.2.0",
            "_model_name": "LayoutModel",
            "_view_count": null,
            "_view_module": "@jupyter-widgets/base",
            "_view_module_version": "1.2.0",
            "_view_name": "LayoutView",
            "align_content": null,
            "align_items": null,
            "align_self": null,
            "border": null,
            "bottom": null,
            "display": null,
            "flex": null,
            "flex_flow": null,
            "grid_area": null,
            "grid_auto_columns": null,
            "grid_auto_flow": null,
            "grid_auto_rows": null,
            "grid_column": null,
            "grid_gap": null,
            "grid_row": null,
            "grid_template_areas": null,
            "grid_template_columns": null,
            "grid_template_rows": null,
            "height": null,
            "justify_content": null,
            "justify_items": null,
            "left": null,
            "margin": null,
            "max_height": null,
            "max_width": null,
            "min_height": null,
            "min_width": null,
            "object_fit": null,
            "object_position": null,
            "order": null,
            "overflow": null,
            "overflow_x": null,
            "overflow_y": null,
            "padding": null,
            "right": null,
            "top": null,
            "visibility": null,
            "width": null
          }
        },
        "4eb1ea1872e041e5a0c25e9f76d4473b": {
          "model_module": "@jupyter-widgets/controls",
          "model_name": "ProgressStyleModel",
          "model_module_version": "1.5.0",
          "state": {
            "_model_module": "@jupyter-widgets/controls",
            "_model_module_version": "1.5.0",
            "_model_name": "ProgressStyleModel",
            "_view_count": null,
            "_view_module": "@jupyter-widgets/base",
            "_view_module_version": "1.2.0",
            "_view_name": "StyleView",
            "bar_color": null,
            "description_width": ""
          }
        },
        "abe4ed159deb4c57b53c8fc3129aad50": {
          "model_module": "@jupyter-widgets/base",
          "model_name": "LayoutModel",
          "model_module_version": "1.2.0",
          "state": {
            "_model_module": "@jupyter-widgets/base",
            "_model_module_version": "1.2.0",
            "_model_name": "LayoutModel",
            "_view_count": null,
            "_view_module": "@jupyter-widgets/base",
            "_view_module_version": "1.2.0",
            "_view_name": "LayoutView",
            "align_content": null,
            "align_items": null,
            "align_self": null,
            "border": null,
            "bottom": null,
            "display": null,
            "flex": null,
            "flex_flow": null,
            "grid_area": null,
            "grid_auto_columns": null,
            "grid_auto_flow": null,
            "grid_auto_rows": null,
            "grid_column": null,
            "grid_gap": null,
            "grid_row": null,
            "grid_template_areas": null,
            "grid_template_columns": null,
            "grid_template_rows": null,
            "height": null,
            "justify_content": null,
            "justify_items": null,
            "left": null,
            "margin": null,
            "max_height": null,
            "max_width": null,
            "min_height": null,
            "min_width": null,
            "object_fit": null,
            "object_position": null,
            "order": null,
            "overflow": null,
            "overflow_x": null,
            "overflow_y": null,
            "padding": null,
            "right": null,
            "top": null,
            "visibility": null,
            "width": null
          }
        },
        "3faaaae20a2448839f0837031271a9ee": {
          "model_module": "@jupyter-widgets/controls",
          "model_name": "DescriptionStyleModel",
          "model_module_version": "1.5.0",
          "state": {
            "_model_module": "@jupyter-widgets/controls",
            "_model_module_version": "1.5.0",
            "_model_name": "DescriptionStyleModel",
            "_view_count": null,
            "_view_module": "@jupyter-widgets/base",
            "_view_module_version": "1.2.0",
            "_view_name": "StyleView",
            "description_width": ""
          }
        },
        "346a6c8efd514cdfbc2fd1f29d100cc8": {
          "model_module": "@jupyter-widgets/controls",
          "model_name": "HBoxModel",
          "model_module_version": "1.5.0",
          "state": {
            "_dom_classes": [],
            "_model_module": "@jupyter-widgets/controls",
            "_model_module_version": "1.5.0",
            "_model_name": "HBoxModel",
            "_view_count": null,
            "_view_module": "@jupyter-widgets/controls",
            "_view_module_version": "1.5.0",
            "_view_name": "HBoxView",
            "box_style": "",
            "children": [
              "IPY_MODEL_00abed5d785e4e19a716a24edba88a2e",
              "IPY_MODEL_a6db681c09bf46b3b10880119da9862e",
              "IPY_MODEL_c6b706857a044580bb16ef6de1ac8a7c"
            ],
            "layout": "IPY_MODEL_6f4acfc8692a48cf8ade0ddfd4a81f6c"
          }
        },
        "00abed5d785e4e19a716a24edba88a2e": {
          "model_module": "@jupyter-widgets/controls",
          "model_name": "HTMLModel",
          "model_module_version": "1.5.0",
          "state": {
            "_dom_classes": [],
            "_model_module": "@jupyter-widgets/controls",
            "_model_module_version": "1.5.0",
            "_model_name": "HTMLModel",
            "_view_count": null,
            "_view_module": "@jupyter-widgets/controls",
            "_view_module_version": "1.5.0",
            "_view_name": "HTMLView",
            "description": "",
            "description_tooltip": null,
            "layout": "IPY_MODEL_2e1563c34c7c446085c23ef8011731af",
            "placeholder": "​",
            "style": "IPY_MODEL_9ab8937a87fc4febb6a343a8d4226e12",
            "value": "Downloading (…)olve/main/vocab.json: 100%"
          }
        },
        "a6db681c09bf46b3b10880119da9862e": {
          "model_module": "@jupyter-widgets/controls",
          "model_name": "FloatProgressModel",
          "model_module_version": "1.5.0",
          "state": {
            "_dom_classes": [],
            "_model_module": "@jupyter-widgets/controls",
            "_model_module_version": "1.5.0",
            "_model_name": "FloatProgressModel",
            "_view_count": null,
            "_view_module": "@jupyter-widgets/controls",
            "_view_module_version": "1.5.0",
            "_view_name": "ProgressView",
            "bar_style": "success",
            "description": "",
            "description_tooltip": null,
            "layout": "IPY_MODEL_f53ef0861dfc40de8a35e74cf750bb1f",
            "max": 898823,
            "min": 0,
            "orientation": "horizontal",
            "style": "IPY_MODEL_13054cda365f48e991a90951bda2ab5b",
            "value": 898823
          }
        },
        "c6b706857a044580bb16ef6de1ac8a7c": {
          "model_module": "@jupyter-widgets/controls",
          "model_name": "HTMLModel",
          "model_module_version": "1.5.0",
          "state": {
            "_dom_classes": [],
            "_model_module": "@jupyter-widgets/controls",
            "_model_module_version": "1.5.0",
            "_model_name": "HTMLModel",
            "_view_count": null,
            "_view_module": "@jupyter-widgets/controls",
            "_view_module_version": "1.5.0",
            "_view_name": "HTMLView",
            "description": "",
            "description_tooltip": null,
            "layout": "IPY_MODEL_e834395f8c104fba938c320da7dcafec",
            "placeholder": "​",
            "style": "IPY_MODEL_75526356bcc341c180541ebbf95d2ed1",
            "value": " 899k/899k [00:00&lt;00:00, 9.42MB/s]"
          }
        },
        "6f4acfc8692a48cf8ade0ddfd4a81f6c": {
          "model_module": "@jupyter-widgets/base",
          "model_name": "LayoutModel",
          "model_module_version": "1.2.0",
          "state": {
            "_model_module": "@jupyter-widgets/base",
            "_model_module_version": "1.2.0",
            "_model_name": "LayoutModel",
            "_view_count": null,
            "_view_module": "@jupyter-widgets/base",
            "_view_module_version": "1.2.0",
            "_view_name": "LayoutView",
            "align_content": null,
            "align_items": null,
            "align_self": null,
            "border": null,
            "bottom": null,
            "display": null,
            "flex": null,
            "flex_flow": null,
            "grid_area": null,
            "grid_auto_columns": null,
            "grid_auto_flow": null,
            "grid_auto_rows": null,
            "grid_column": null,
            "grid_gap": null,
            "grid_row": null,
            "grid_template_areas": null,
            "grid_template_columns": null,
            "grid_template_rows": null,
            "height": null,
            "justify_content": null,
            "justify_items": null,
            "left": null,
            "margin": null,
            "max_height": null,
            "max_width": null,
            "min_height": null,
            "min_width": null,
            "object_fit": null,
            "object_position": null,
            "order": null,
            "overflow": null,
            "overflow_x": null,
            "overflow_y": null,
            "padding": null,
            "right": null,
            "top": null,
            "visibility": null,
            "width": null
          }
        },
        "2e1563c34c7c446085c23ef8011731af": {
          "model_module": "@jupyter-widgets/base",
          "model_name": "LayoutModel",
          "model_module_version": "1.2.0",
          "state": {
            "_model_module": "@jupyter-widgets/base",
            "_model_module_version": "1.2.0",
            "_model_name": "LayoutModel",
            "_view_count": null,
            "_view_module": "@jupyter-widgets/base",
            "_view_module_version": "1.2.0",
            "_view_name": "LayoutView",
            "align_content": null,
            "align_items": null,
            "align_self": null,
            "border": null,
            "bottom": null,
            "display": null,
            "flex": null,
            "flex_flow": null,
            "grid_area": null,
            "grid_auto_columns": null,
            "grid_auto_flow": null,
            "grid_auto_rows": null,
            "grid_column": null,
            "grid_gap": null,
            "grid_row": null,
            "grid_template_areas": null,
            "grid_template_columns": null,
            "grid_template_rows": null,
            "height": null,
            "justify_content": null,
            "justify_items": null,
            "left": null,
            "margin": null,
            "max_height": null,
            "max_width": null,
            "min_height": null,
            "min_width": null,
            "object_fit": null,
            "object_position": null,
            "order": null,
            "overflow": null,
            "overflow_x": null,
            "overflow_y": null,
            "padding": null,
            "right": null,
            "top": null,
            "visibility": null,
            "width": null
          }
        },
        "9ab8937a87fc4febb6a343a8d4226e12": {
          "model_module": "@jupyter-widgets/controls",
          "model_name": "DescriptionStyleModel",
          "model_module_version": "1.5.0",
          "state": {
            "_model_module": "@jupyter-widgets/controls",
            "_model_module_version": "1.5.0",
            "_model_name": "DescriptionStyleModel",
            "_view_count": null,
            "_view_module": "@jupyter-widgets/base",
            "_view_module_version": "1.2.0",
            "_view_name": "StyleView",
            "description_width": ""
          }
        },
        "f53ef0861dfc40de8a35e74cf750bb1f": {
          "model_module": "@jupyter-widgets/base",
          "model_name": "LayoutModel",
          "model_module_version": "1.2.0",
          "state": {
            "_model_module": "@jupyter-widgets/base",
            "_model_module_version": "1.2.0",
            "_model_name": "LayoutModel",
            "_view_count": null,
            "_view_module": "@jupyter-widgets/base",
            "_view_module_version": "1.2.0",
            "_view_name": "LayoutView",
            "align_content": null,
            "align_items": null,
            "align_self": null,
            "border": null,
            "bottom": null,
            "display": null,
            "flex": null,
            "flex_flow": null,
            "grid_area": null,
            "grid_auto_columns": null,
            "grid_auto_flow": null,
            "grid_auto_rows": null,
            "grid_column": null,
            "grid_gap": null,
            "grid_row": null,
            "grid_template_areas": null,
            "grid_template_columns": null,
            "grid_template_rows": null,
            "height": null,
            "justify_content": null,
            "justify_items": null,
            "left": null,
            "margin": null,
            "max_height": null,
            "max_width": null,
            "min_height": null,
            "min_width": null,
            "object_fit": null,
            "object_position": null,
            "order": null,
            "overflow": null,
            "overflow_x": null,
            "overflow_y": null,
            "padding": null,
            "right": null,
            "top": null,
            "visibility": null,
            "width": null
          }
        },
        "13054cda365f48e991a90951bda2ab5b": {
          "model_module": "@jupyter-widgets/controls",
          "model_name": "ProgressStyleModel",
          "model_module_version": "1.5.0",
          "state": {
            "_model_module": "@jupyter-widgets/controls",
            "_model_module_version": "1.5.0",
            "_model_name": "ProgressStyleModel",
            "_view_count": null,
            "_view_module": "@jupyter-widgets/base",
            "_view_module_version": "1.2.0",
            "_view_name": "StyleView",
            "bar_color": null,
            "description_width": ""
          }
        },
        "e834395f8c104fba938c320da7dcafec": {
          "model_module": "@jupyter-widgets/base",
          "model_name": "LayoutModel",
          "model_module_version": "1.2.0",
          "state": {
            "_model_module": "@jupyter-widgets/base",
            "_model_module_version": "1.2.0",
            "_model_name": "LayoutModel",
            "_view_count": null,
            "_view_module": "@jupyter-widgets/base",
            "_view_module_version": "1.2.0",
            "_view_name": "LayoutView",
            "align_content": null,
            "align_items": null,
            "align_self": null,
            "border": null,
            "bottom": null,
            "display": null,
            "flex": null,
            "flex_flow": null,
            "grid_area": null,
            "grid_auto_columns": null,
            "grid_auto_flow": null,
            "grid_auto_rows": null,
            "grid_column": null,
            "grid_gap": null,
            "grid_row": null,
            "grid_template_areas": null,
            "grid_template_columns": null,
            "grid_template_rows": null,
            "height": null,
            "justify_content": null,
            "justify_items": null,
            "left": null,
            "margin": null,
            "max_height": null,
            "max_width": null,
            "min_height": null,
            "min_width": null,
            "object_fit": null,
            "object_position": null,
            "order": null,
            "overflow": null,
            "overflow_x": null,
            "overflow_y": null,
            "padding": null,
            "right": null,
            "top": null,
            "visibility": null,
            "width": null
          }
        },
        "75526356bcc341c180541ebbf95d2ed1": {
          "model_module": "@jupyter-widgets/controls",
          "model_name": "DescriptionStyleModel",
          "model_module_version": "1.5.0",
          "state": {
            "_model_module": "@jupyter-widgets/controls",
            "_model_module_version": "1.5.0",
            "_model_name": "DescriptionStyleModel",
            "_view_count": null,
            "_view_module": "@jupyter-widgets/base",
            "_view_module_version": "1.2.0",
            "_view_name": "StyleView",
            "description_width": ""
          }
        },
        "da1dcc44a723478ba013d815ba3671ea": {
          "model_module": "@jupyter-widgets/controls",
          "model_name": "HBoxModel",
          "model_module_version": "1.5.0",
          "state": {
            "_dom_classes": [],
            "_model_module": "@jupyter-widgets/controls",
            "_model_module_version": "1.5.0",
            "_model_name": "HBoxModel",
            "_view_count": null,
            "_view_module": "@jupyter-widgets/controls",
            "_view_module_version": "1.5.0",
            "_view_name": "HBoxView",
            "box_style": "",
            "children": [
              "IPY_MODEL_dad3cd1a7ff14d21bde626f09e59004d",
              "IPY_MODEL_a65f843a78da43788ee00b3016b7ce5f",
              "IPY_MODEL_1d4bf364a37041b0a02a6058851ae6cd"
            ],
            "layout": "IPY_MODEL_25aae25615cb48b7987c181bcbabab67"
          }
        },
        "dad3cd1a7ff14d21bde626f09e59004d": {
          "model_module": "@jupyter-widgets/controls",
          "model_name": "HTMLModel",
          "model_module_version": "1.5.0",
          "state": {
            "_dom_classes": [],
            "_model_module": "@jupyter-widgets/controls",
            "_model_module_version": "1.5.0",
            "_model_name": "HTMLModel",
            "_view_count": null,
            "_view_module": "@jupyter-widgets/controls",
            "_view_module_version": "1.5.0",
            "_view_name": "HTMLView",
            "description": "",
            "description_tooltip": null,
            "layout": "IPY_MODEL_c937d18118de4c2e884450471dfc0782",
            "placeholder": "​",
            "style": "IPY_MODEL_9da68889c98e428aa713c636c8d0938f",
            "value": "Downloading (…)olve/main/merges.txt: 100%"
          }
        },
        "a65f843a78da43788ee00b3016b7ce5f": {
          "model_module": "@jupyter-widgets/controls",
          "model_name": "FloatProgressModel",
          "model_module_version": "1.5.0",
          "state": {
            "_dom_classes": [],
            "_model_module": "@jupyter-widgets/controls",
            "_model_module_version": "1.5.0",
            "_model_name": "FloatProgressModel",
            "_view_count": null,
            "_view_module": "@jupyter-widgets/controls",
            "_view_module_version": "1.5.0",
            "_view_name": "ProgressView",
            "bar_style": "success",
            "description": "",
            "description_tooltip": null,
            "layout": "IPY_MODEL_a2f0f324bb3c4090abbac7afd5af18e9",
            "max": 456318,
            "min": 0,
            "orientation": "horizontal",
            "style": "IPY_MODEL_053e837b3cdb414483d7b66b3bec8a02",
            "value": 456318
          }
        },
        "1d4bf364a37041b0a02a6058851ae6cd": {
          "model_module": "@jupyter-widgets/controls",
          "model_name": "HTMLModel",
          "model_module_version": "1.5.0",
          "state": {
            "_dom_classes": [],
            "_model_module": "@jupyter-widgets/controls",
            "_model_module_version": "1.5.0",
            "_model_name": "HTMLModel",
            "_view_count": null,
            "_view_module": "@jupyter-widgets/controls",
            "_view_module_version": "1.5.0",
            "_view_name": "HTMLView",
            "description": "",
            "description_tooltip": null,
            "layout": "IPY_MODEL_f2fe02389e124fb1a947cab2dd2b908e",
            "placeholder": "​",
            "style": "IPY_MODEL_c2808209afb7480c8988a243635a99d9",
            "value": " 456k/456k [00:00&lt;00:00, 10.1MB/s]"
          }
        },
        "25aae25615cb48b7987c181bcbabab67": {
          "model_module": "@jupyter-widgets/base",
          "model_name": "LayoutModel",
          "model_module_version": "1.2.0",
          "state": {
            "_model_module": "@jupyter-widgets/base",
            "_model_module_version": "1.2.0",
            "_model_name": "LayoutModel",
            "_view_count": null,
            "_view_module": "@jupyter-widgets/base",
            "_view_module_version": "1.2.0",
            "_view_name": "LayoutView",
            "align_content": null,
            "align_items": null,
            "align_self": null,
            "border": null,
            "bottom": null,
            "display": null,
            "flex": null,
            "flex_flow": null,
            "grid_area": null,
            "grid_auto_columns": null,
            "grid_auto_flow": null,
            "grid_auto_rows": null,
            "grid_column": null,
            "grid_gap": null,
            "grid_row": null,
            "grid_template_areas": null,
            "grid_template_columns": null,
            "grid_template_rows": null,
            "height": null,
            "justify_content": null,
            "justify_items": null,
            "left": null,
            "margin": null,
            "max_height": null,
            "max_width": null,
            "min_height": null,
            "min_width": null,
            "object_fit": null,
            "object_position": null,
            "order": null,
            "overflow": null,
            "overflow_x": null,
            "overflow_y": null,
            "padding": null,
            "right": null,
            "top": null,
            "visibility": null,
            "width": null
          }
        },
        "c937d18118de4c2e884450471dfc0782": {
          "model_module": "@jupyter-widgets/base",
          "model_name": "LayoutModel",
          "model_module_version": "1.2.0",
          "state": {
            "_model_module": "@jupyter-widgets/base",
            "_model_module_version": "1.2.0",
            "_model_name": "LayoutModel",
            "_view_count": null,
            "_view_module": "@jupyter-widgets/base",
            "_view_module_version": "1.2.0",
            "_view_name": "LayoutView",
            "align_content": null,
            "align_items": null,
            "align_self": null,
            "border": null,
            "bottom": null,
            "display": null,
            "flex": null,
            "flex_flow": null,
            "grid_area": null,
            "grid_auto_columns": null,
            "grid_auto_flow": null,
            "grid_auto_rows": null,
            "grid_column": null,
            "grid_gap": null,
            "grid_row": null,
            "grid_template_areas": null,
            "grid_template_columns": null,
            "grid_template_rows": null,
            "height": null,
            "justify_content": null,
            "justify_items": null,
            "left": null,
            "margin": null,
            "max_height": null,
            "max_width": null,
            "min_height": null,
            "min_width": null,
            "object_fit": null,
            "object_position": null,
            "order": null,
            "overflow": null,
            "overflow_x": null,
            "overflow_y": null,
            "padding": null,
            "right": null,
            "top": null,
            "visibility": null,
            "width": null
          }
        },
        "9da68889c98e428aa713c636c8d0938f": {
          "model_module": "@jupyter-widgets/controls",
          "model_name": "DescriptionStyleModel",
          "model_module_version": "1.5.0",
          "state": {
            "_model_module": "@jupyter-widgets/controls",
            "_model_module_version": "1.5.0",
            "_model_name": "DescriptionStyleModel",
            "_view_count": null,
            "_view_module": "@jupyter-widgets/base",
            "_view_module_version": "1.2.0",
            "_view_name": "StyleView",
            "description_width": ""
          }
        },
        "a2f0f324bb3c4090abbac7afd5af18e9": {
          "model_module": "@jupyter-widgets/base",
          "model_name": "LayoutModel",
          "model_module_version": "1.2.0",
          "state": {
            "_model_module": "@jupyter-widgets/base",
            "_model_module_version": "1.2.0",
            "_model_name": "LayoutModel",
            "_view_count": null,
            "_view_module": "@jupyter-widgets/base",
            "_view_module_version": "1.2.0",
            "_view_name": "LayoutView",
            "align_content": null,
            "align_items": null,
            "align_self": null,
            "border": null,
            "bottom": null,
            "display": null,
            "flex": null,
            "flex_flow": null,
            "grid_area": null,
            "grid_auto_columns": null,
            "grid_auto_flow": null,
            "grid_auto_rows": null,
            "grid_column": null,
            "grid_gap": null,
            "grid_row": null,
            "grid_template_areas": null,
            "grid_template_columns": null,
            "grid_template_rows": null,
            "height": null,
            "justify_content": null,
            "justify_items": null,
            "left": null,
            "margin": null,
            "max_height": null,
            "max_width": null,
            "min_height": null,
            "min_width": null,
            "object_fit": null,
            "object_position": null,
            "order": null,
            "overflow": null,
            "overflow_x": null,
            "overflow_y": null,
            "padding": null,
            "right": null,
            "top": null,
            "visibility": null,
            "width": null
          }
        },
        "053e837b3cdb414483d7b66b3bec8a02": {
          "model_module": "@jupyter-widgets/controls",
          "model_name": "ProgressStyleModel",
          "model_module_version": "1.5.0",
          "state": {
            "_model_module": "@jupyter-widgets/controls",
            "_model_module_version": "1.5.0",
            "_model_name": "ProgressStyleModel",
            "_view_count": null,
            "_view_module": "@jupyter-widgets/base",
            "_view_module_version": "1.2.0",
            "_view_name": "StyleView",
            "bar_color": null,
            "description_width": ""
          }
        },
        "f2fe02389e124fb1a947cab2dd2b908e": {
          "model_module": "@jupyter-widgets/base",
          "model_name": "LayoutModel",
          "model_module_version": "1.2.0",
          "state": {
            "_model_module": "@jupyter-widgets/base",
            "_model_module_version": "1.2.0",
            "_model_name": "LayoutModel",
            "_view_count": null,
            "_view_module": "@jupyter-widgets/base",
            "_view_module_version": "1.2.0",
            "_view_name": "LayoutView",
            "align_content": null,
            "align_items": null,
            "align_self": null,
            "border": null,
            "bottom": null,
            "display": null,
            "flex": null,
            "flex_flow": null,
            "grid_area": null,
            "grid_auto_columns": null,
            "grid_auto_flow": null,
            "grid_auto_rows": null,
            "grid_column": null,
            "grid_gap": null,
            "grid_row": null,
            "grid_template_areas": null,
            "grid_template_columns": null,
            "grid_template_rows": null,
            "height": null,
            "justify_content": null,
            "justify_items": null,
            "left": null,
            "margin": null,
            "max_height": null,
            "max_width": null,
            "min_height": null,
            "min_width": null,
            "object_fit": null,
            "object_position": null,
            "order": null,
            "overflow": null,
            "overflow_x": null,
            "overflow_y": null,
            "padding": null,
            "right": null,
            "top": null,
            "visibility": null,
            "width": null
          }
        },
        "c2808209afb7480c8988a243635a99d9": {
          "model_module": "@jupyter-widgets/controls",
          "model_name": "DescriptionStyleModel",
          "model_module_version": "1.5.0",
          "state": {
            "_model_module": "@jupyter-widgets/controls",
            "_model_module_version": "1.5.0",
            "_model_name": "DescriptionStyleModel",
            "_view_count": null,
            "_view_module": "@jupyter-widgets/base",
            "_view_module_version": "1.2.0",
            "_view_name": "StyleView",
            "description_width": ""
          }
        },
        "4276888d86b34cb2b66e658d0fe917fe": {
          "model_module": "@jupyter-widgets/controls",
          "model_name": "HBoxModel",
          "model_module_version": "1.5.0",
          "state": {
            "_dom_classes": [],
            "_model_module": "@jupyter-widgets/controls",
            "_model_module_version": "1.5.0",
            "_model_name": "HBoxModel",
            "_view_count": null,
            "_view_module": "@jupyter-widgets/controls",
            "_view_module_version": "1.5.0",
            "_view_name": "HBoxView",
            "box_style": "",
            "children": [
              "IPY_MODEL_4ae61efe9b6641d6933655efc9bc0462",
              "IPY_MODEL_4492e7f2f67140069d7880a49c1afcbc",
              "IPY_MODEL_fcad1f3459f044c3a31ab38b2b467807"
            ],
            "layout": "IPY_MODEL_c088267d671d400494d7c7fa40bd2c41"
          }
        },
        "4ae61efe9b6641d6933655efc9bc0462": {
          "model_module": "@jupyter-widgets/controls",
          "model_name": "HTMLModel",
          "model_module_version": "1.5.0",
          "state": {
            "_dom_classes": [],
            "_model_module": "@jupyter-widgets/controls",
            "_model_module_version": "1.5.0",
            "_model_name": "HTMLModel",
            "_view_count": null,
            "_view_module": "@jupyter-widgets/controls",
            "_view_module_version": "1.5.0",
            "_view_name": "HTMLView",
            "description": "",
            "description_tooltip": null,
            "layout": "IPY_MODEL_76ab278f1a6348408d9441fec78160f7",
            "placeholder": "​",
            "style": "IPY_MODEL_d181bf039e1443cebb81351e8e017cea",
            "value": "Downloading (…)/main/tokenizer.json: 100%"
          }
        },
        "4492e7f2f67140069d7880a49c1afcbc": {
          "model_module": "@jupyter-widgets/controls",
          "model_name": "FloatProgressModel",
          "model_module_version": "1.5.0",
          "state": {
            "_dom_classes": [],
            "_model_module": "@jupyter-widgets/controls",
            "_model_module_version": "1.5.0",
            "_model_name": "FloatProgressModel",
            "_view_count": null,
            "_view_module": "@jupyter-widgets/controls",
            "_view_module_version": "1.5.0",
            "_view_name": "ProgressView",
            "bar_style": "success",
            "description": "",
            "description_tooltip": null,
            "layout": "IPY_MODEL_9efd12d913964401b106a4e40da3ab8f",
            "max": 1355863,
            "min": 0,
            "orientation": "horizontal",
            "style": "IPY_MODEL_e51ececbc0a9400c9bfe251cec3e52a9",
            "value": 1355863
          }
        },
        "fcad1f3459f044c3a31ab38b2b467807": {
          "model_module": "@jupyter-widgets/controls",
          "model_name": "HTMLModel",
          "model_module_version": "1.5.0",
          "state": {
            "_dom_classes": [],
            "_model_module": "@jupyter-widgets/controls",
            "_model_module_version": "1.5.0",
            "_model_name": "HTMLModel",
            "_view_count": null,
            "_view_module": "@jupyter-widgets/controls",
            "_view_module_version": "1.5.0",
            "_view_name": "HTMLView",
            "description": "",
            "description_tooltip": null,
            "layout": "IPY_MODEL_bcdda7d2a1564f46ba41e153478f6ac5",
            "placeholder": "​",
            "style": "IPY_MODEL_1c7d52b965f848aeab877adac221babf",
            "value": " 1.36M/1.36M [00:00&lt;00:00, 20.5MB/s]"
          }
        },
        "c088267d671d400494d7c7fa40bd2c41": {
          "model_module": "@jupyter-widgets/base",
          "model_name": "LayoutModel",
          "model_module_version": "1.2.0",
          "state": {
            "_model_module": "@jupyter-widgets/base",
            "_model_module_version": "1.2.0",
            "_model_name": "LayoutModel",
            "_view_count": null,
            "_view_module": "@jupyter-widgets/base",
            "_view_module_version": "1.2.0",
            "_view_name": "LayoutView",
            "align_content": null,
            "align_items": null,
            "align_self": null,
            "border": null,
            "bottom": null,
            "display": null,
            "flex": null,
            "flex_flow": null,
            "grid_area": null,
            "grid_auto_columns": null,
            "grid_auto_flow": null,
            "grid_auto_rows": null,
            "grid_column": null,
            "grid_gap": null,
            "grid_row": null,
            "grid_template_areas": null,
            "grid_template_columns": null,
            "grid_template_rows": null,
            "height": null,
            "justify_content": null,
            "justify_items": null,
            "left": null,
            "margin": null,
            "max_height": null,
            "max_width": null,
            "min_height": null,
            "min_width": null,
            "object_fit": null,
            "object_position": null,
            "order": null,
            "overflow": null,
            "overflow_x": null,
            "overflow_y": null,
            "padding": null,
            "right": null,
            "top": null,
            "visibility": null,
            "width": null
          }
        },
        "76ab278f1a6348408d9441fec78160f7": {
          "model_module": "@jupyter-widgets/base",
          "model_name": "LayoutModel",
          "model_module_version": "1.2.0",
          "state": {
            "_model_module": "@jupyter-widgets/base",
            "_model_module_version": "1.2.0",
            "_model_name": "LayoutModel",
            "_view_count": null,
            "_view_module": "@jupyter-widgets/base",
            "_view_module_version": "1.2.0",
            "_view_name": "LayoutView",
            "align_content": null,
            "align_items": null,
            "align_self": null,
            "border": null,
            "bottom": null,
            "display": null,
            "flex": null,
            "flex_flow": null,
            "grid_area": null,
            "grid_auto_columns": null,
            "grid_auto_flow": null,
            "grid_auto_rows": null,
            "grid_column": null,
            "grid_gap": null,
            "grid_row": null,
            "grid_template_areas": null,
            "grid_template_columns": null,
            "grid_template_rows": null,
            "height": null,
            "justify_content": null,
            "justify_items": null,
            "left": null,
            "margin": null,
            "max_height": null,
            "max_width": null,
            "min_height": null,
            "min_width": null,
            "object_fit": null,
            "object_position": null,
            "order": null,
            "overflow": null,
            "overflow_x": null,
            "overflow_y": null,
            "padding": null,
            "right": null,
            "top": null,
            "visibility": null,
            "width": null
          }
        },
        "d181bf039e1443cebb81351e8e017cea": {
          "model_module": "@jupyter-widgets/controls",
          "model_name": "DescriptionStyleModel",
          "model_module_version": "1.5.0",
          "state": {
            "_model_module": "@jupyter-widgets/controls",
            "_model_module_version": "1.5.0",
            "_model_name": "DescriptionStyleModel",
            "_view_count": null,
            "_view_module": "@jupyter-widgets/base",
            "_view_module_version": "1.2.0",
            "_view_name": "StyleView",
            "description_width": ""
          }
        },
        "9efd12d913964401b106a4e40da3ab8f": {
          "model_module": "@jupyter-widgets/base",
          "model_name": "LayoutModel",
          "model_module_version": "1.2.0",
          "state": {
            "_model_module": "@jupyter-widgets/base",
            "_model_module_version": "1.2.0",
            "_model_name": "LayoutModel",
            "_view_count": null,
            "_view_module": "@jupyter-widgets/base",
            "_view_module_version": "1.2.0",
            "_view_name": "LayoutView",
            "align_content": null,
            "align_items": null,
            "align_self": null,
            "border": null,
            "bottom": null,
            "display": null,
            "flex": null,
            "flex_flow": null,
            "grid_area": null,
            "grid_auto_columns": null,
            "grid_auto_flow": null,
            "grid_auto_rows": null,
            "grid_column": null,
            "grid_gap": null,
            "grid_row": null,
            "grid_template_areas": null,
            "grid_template_columns": null,
            "grid_template_rows": null,
            "height": null,
            "justify_content": null,
            "justify_items": null,
            "left": null,
            "margin": null,
            "max_height": null,
            "max_width": null,
            "min_height": null,
            "min_width": null,
            "object_fit": null,
            "object_position": null,
            "order": null,
            "overflow": null,
            "overflow_x": null,
            "overflow_y": null,
            "padding": null,
            "right": null,
            "top": null,
            "visibility": null,
            "width": null
          }
        },
        "e51ececbc0a9400c9bfe251cec3e52a9": {
          "model_module": "@jupyter-widgets/controls",
          "model_name": "ProgressStyleModel",
          "model_module_version": "1.5.0",
          "state": {
            "_model_module": "@jupyter-widgets/controls",
            "_model_module_version": "1.5.0",
            "_model_name": "ProgressStyleModel",
            "_view_count": null,
            "_view_module": "@jupyter-widgets/base",
            "_view_module_version": "1.2.0",
            "_view_name": "StyleView",
            "bar_color": null,
            "description_width": ""
          }
        },
        "bcdda7d2a1564f46ba41e153478f6ac5": {
          "model_module": "@jupyter-widgets/base",
          "model_name": "LayoutModel",
          "model_module_version": "1.2.0",
          "state": {
            "_model_module": "@jupyter-widgets/base",
            "_model_module_version": "1.2.0",
            "_model_name": "LayoutModel",
            "_view_count": null,
            "_view_module": "@jupyter-widgets/base",
            "_view_module_version": "1.2.0",
            "_view_name": "LayoutView",
            "align_content": null,
            "align_items": null,
            "align_self": null,
            "border": null,
            "bottom": null,
            "display": null,
            "flex": null,
            "flex_flow": null,
            "grid_area": null,
            "grid_auto_columns": null,
            "grid_auto_flow": null,
            "grid_auto_rows": null,
            "grid_column": null,
            "grid_gap": null,
            "grid_row": null,
            "grid_template_areas": null,
            "grid_template_columns": null,
            "grid_template_rows": null,
            "height": null,
            "justify_content": null,
            "justify_items": null,
            "left": null,
            "margin": null,
            "max_height": null,
            "max_width": null,
            "min_height": null,
            "min_width": null,
            "object_fit": null,
            "object_position": null,
            "order": null,
            "overflow": null,
            "overflow_x": null,
            "overflow_y": null,
            "padding": null,
            "right": null,
            "top": null,
            "visibility": null,
            "width": null
          }
        },
        "1c7d52b965f848aeab877adac221babf": {
          "model_module": "@jupyter-widgets/controls",
          "model_name": "DescriptionStyleModel",
          "model_module_version": "1.5.0",
          "state": {
            "_model_module": "@jupyter-widgets/controls",
            "_model_module_version": "1.5.0",
            "_model_name": "DescriptionStyleModel",
            "_view_count": null,
            "_view_module": "@jupyter-widgets/base",
            "_view_module_version": "1.2.0",
            "_view_name": "StyleView",
            "description_width": ""
          }
        }
      }
    }
  },
  "nbformat": 4,
  "nbformat_minor": 0
}